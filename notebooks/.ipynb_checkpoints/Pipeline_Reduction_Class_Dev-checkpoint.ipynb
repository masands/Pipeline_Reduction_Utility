{
 "cells": [
  {
   "cell_type": "markdown",
   "metadata": {},
   "source": [
    "### Class Definition"
   ]
  },
  {
   "cell_type": "code",
   "execution_count": 80,
   "metadata": {},
   "outputs": [],
   "source": [
    "import pandas as pd\n",
    "import numpy as np\n",
    "from scipy import interpolate\n",
    "import matplotlib.pyplot as plt\n",
    "import warnings\n",
    "\n",
    "class pipeline_reduction(object):\n",
    "    'Reduces the number of sections in a pipeline / flowline for increased simulation speed.'\n",
    "    \n",
    "    def __init__(self, df, xlabel = 'X', ylabel = 'Y', min_weld_size = 12.5, n_pipe_sec = 200):\n",
    "        'Purpose: Initialises the pipeline_reduction class utility.'\n",
    "        'Inputs:'\n",
    "        'df: A Pandas dataframe object with the original pipeline profile data;'\n",
    "        'xlabel: X axis label, default is X;'\n",
    "        'ylabel: Y axis label, default is Y;'\n",
    "        'min_weld_size: Resamples the original pipeline profile data to a minimum size size prior to further reduction;'\n",
    "        'n_pipe_sec: Required number of final pipeline sections.'\n",
    "        'Returns: N/A'\n",
    "        \n",
    "        #Initialise local variables\n",
    "        self.xlabel = xlabel\n",
    "        self.ylabel = ylabel\n",
    "        self.min_weld_size = min_weld_size\n",
    "        self.n_pipe_sec = n_pipe_sec\n",
    "        self.xstart = df[xlabel].iloc[0]\n",
    "        self.xend = df[xlabel].iloc[-1]\n",
    "        self.ystart = df[ylabel].iloc[0]\n",
    "        self.yend = df[ylabel].iloc[-1]\n",
    "        \n",
    "        self.df_raw = self._resample_df(df, min_weld_size)\n",
    "        \n",
    "    def _resample_df(self, df, new_size):\n",
    "        'Purpose: Resamples data in the input Pandas dataframe to the specified pipe size.'\n",
    "        'Inputs:'\n",
    "        'df: A Pandas dataframe object with pipeline profile data;'\n",
    "        'new_size: Required pipe section length;'\n",
    "        'Returns: Pandas dataframe object with resampled data.'\n",
    "        \n",
    "        #Make a copy of the original dataframe\n",
    "        df = df.copy()\n",
    "        \n",
    "        #Calculate DelX and DelY\n",
    "        df['XDel'] = df[self.xlabel] - df[self.xlabel].shift(1)\n",
    "        df['YDel'] = df[self.ylabel] - df[self.ylabel].shift(1)\n",
    "        \n",
    "        #Calculate length of each segment\n",
    "        df['pipe_len'] = np.sqrt(df['XDel']**2 + df['YDel']**2)\n",
    "        \n",
    "        #Check that current min. pipe length > new_size\n",
    "        curr_min = min(df['pipe_len'].iloc[1:])\n",
    "        if curr_min > new_size:\n",
    "            warnings.warn(f'Warning. Minimum pipe section is larger than the specified pipe section. Reseting to {curr_min}')\n",
    "            new_size = curr_min\n",
    "        \n",
    "        # calculate pipeline length\n",
    "        df['Length'] = df['pipe_len'].cumsum()\n",
    "        df.at[0, 'Length'] = 0\n",
    "        fl_length = df['Length'].iloc[-1]\n",
    "        \n",
    "        #Perform 1-D interpolation\n",
    "        length = df['Length'].values\n",
    "        Y = df['Y'].values\n",
    "        f = interpolate.interp1d(length, Y) # Scipy Interpolation Function\n",
    "        \n",
    "        length_new = np.arange(0, fl_length, new_size) # Reduced pipeline length\n",
    "        length_new[-1] = fl_length\n",
    "        \n",
    "        #Add data to new dataframe\n",
    "        #length_new = pd.Series(length_new)\n",
    "        #Y_new = pd.Series(f(length_new)) # Calculate y values for reduced length\n",
    "        \n",
    "        # Store to new dataframe\n",
    "        df_new = pd.DataFrame()\n",
    "        df_new['Length'] = length_new\n",
    "        df_new[self.ylabel] = f(length_new)\n",
    "        df_new['pipe_len'] = df_new['Length'] - df_new['Length'].shift(1)\n",
    "        df_new['Y_Del'] = df_new[self.ylabel] - df_new[self.ylabel].shift(1)\n",
    "        \n",
    "        # Calculate Pipe Angles\n",
    "        df_new['Angles'] = np.arcsin(df_new['Y_Del'] / df_new['Length']) * 180 / 3.141592653589793\n",
    "        \n",
    "        return df_new\n",
    "    \n",
    "    def _process_df(self):\n",
    "        'Purpose: Pre-process the provided pipeline profile data prior to reduction.'\n",
    "        'Inputs: N/A'\n",
    "        'Outputs: N/A'\n",
    "        pass\n",
    "    "
   ]
  },
  {
   "cell_type": "markdown",
   "metadata": {},
   "source": [
    "### Unit Tests"
   ]
  },
  {
   "cell_type": "code",
   "execution_count": 81,
   "metadata": {},
   "outputs": [],
   "source": [
    "PATH = \"../data\"\n",
    "df = pd.read_csv(f'{PATH}/profile.csv')"
   ]
  },
  {
   "cell_type": "code",
   "execution_count": 82,
   "metadata": {},
   "outputs": [],
   "source": [
    "pru = pipeline_reduction(df)"
   ]
  },
  {
   "cell_type": "code",
   "execution_count": 83,
   "metadata": {},
   "outputs": [
    {
     "data": {
      "text/html": [
       "<div>\n",
       "<style scoped>\n",
       "    .dataframe tbody tr th:only-of-type {\n",
       "        vertical-align: middle;\n",
       "    }\n",
       "\n",
       "    .dataframe tbody tr th {\n",
       "        vertical-align: top;\n",
       "    }\n",
       "\n",
       "    .dataframe thead th {\n",
       "        text-align: right;\n",
       "    }\n",
       "</style>\n",
       "<table border=\"1\" class=\"dataframe\">\n",
       "  <thead>\n",
       "    <tr style=\"text-align: right;\">\n",
       "      <th></th>\n",
       "      <th>Length</th>\n",
       "      <th>Y</th>\n",
       "      <th>pipe_len</th>\n",
       "      <th>Y_Del</th>\n",
       "      <th>Angles</th>\n",
       "    </tr>\n",
       "  </thead>\n",
       "  <tbody>\n",
       "    <tr>\n",
       "      <th>0</th>\n",
       "      <td>0.0</td>\n",
       "      <td>-919.090000</td>\n",
       "      <td>NaN</td>\n",
       "      <td>NaN</td>\n",
       "      <td>NaN</td>\n",
       "    </tr>\n",
       "    <tr>\n",
       "      <th>1</th>\n",
       "      <td>12.5</td>\n",
       "      <td>-918.936645</td>\n",
       "      <td>12.5</td>\n",
       "      <td>0.153355</td>\n",
       "      <td>0.702944</td>\n",
       "    </tr>\n",
       "    <tr>\n",
       "      <th>2</th>\n",
       "      <td>25.0</td>\n",
       "      <td>-918.833388</td>\n",
       "      <td>12.5</td>\n",
       "      <td>0.103257</td>\n",
       "      <td>0.236648</td>\n",
       "    </tr>\n",
       "    <tr>\n",
       "      <th>3</th>\n",
       "      <td>37.5</td>\n",
       "      <td>-918.680062</td>\n",
       "      <td>12.5</td>\n",
       "      <td>0.153326</td>\n",
       "      <td>0.234265</td>\n",
       "    </tr>\n",
       "    <tr>\n",
       "      <th>4</th>\n",
       "      <td>50.0</td>\n",
       "      <td>-918.606650</td>\n",
       "      <td>12.5</td>\n",
       "      <td>0.073413</td>\n",
       "      <td>0.084125</td>\n",
       "    </tr>\n",
       "  </tbody>\n",
       "</table>\n",
       "</div>"
      ],
      "text/plain": [
       "   Length           Y  pipe_len     Y_Del    Angles\n",
       "0     0.0 -919.090000       NaN       NaN       NaN\n",
       "1    12.5 -918.936645      12.5  0.153355  0.702944\n",
       "2    25.0 -918.833388      12.5  0.103257  0.236648\n",
       "3    37.5 -918.680062      12.5  0.153326  0.234265\n",
       "4    50.0 -918.606650      12.5  0.073413  0.084125"
      ]
     },
     "execution_count": 83,
     "metadata": {},
     "output_type": "execute_result"
    }
   ],
   "source": [
    "pru.df_raw.head(5)"
   ]
  },
  {
   "cell_type": "code",
   "execution_count": 84,
   "metadata": {},
   "outputs": [
    {
     "data": {
      "image/png": "[encoded data removed]",
      "text/plain": [
       "<Figure size 720x360 with 1 Axes>"
      ]
     },
     "metadata": {
      "needs_background": "light"
     },
     "output_type": "display_data"
    }
   ],
   "source": [
    "plt.figure(figsize=(10,5))\n",
    "plt.plot(pru.df_raw['Length'], pru.df_raw['Y'])\n",
    "plt.show()"
   ]
  },
  {
   "cell_type": "code",
   "execution_count": null,
   "metadata": {},
   "outputs": [],
   "source": []
  }
 ],
 "metadata": {
  "kernelspec": {
   "display_name": "Python 3",
   "language": "python",
   "name": "python3"
  },
  "language_info": {
   "codemirror_mode": {
    "name": "ipython",
    "version": 3
   },
   "file_extension": ".py",
   "mimetype": "text/x-python",
   "name": "python",
   "nbconvert_exporter": "python",
   "pygments_lexer": "ipython3",
   "version": "3.6.8"
  }
 },
 "nbformat": 4,
 "nbformat_minor": 2
}
