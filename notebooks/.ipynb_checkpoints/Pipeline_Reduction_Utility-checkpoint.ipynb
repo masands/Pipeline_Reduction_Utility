{
 "cells": [
  {
   "cell_type": "markdown",
   "metadata": {},
   "source": [
    "### Import Necessary Libraries"
   ]
  },
  {
   "cell_type": "code",
   "execution_count": 1,
   "metadata": {},
   "outputs": [],
   "source": [
    "import pandas as pd\n",
    "import numpy as np\n",
    "import math\n",
    "import matplotlib.pyplot as plt\n",
    "from scipy import interpolate\n",
    "from scipy.optimize import differential_evolution, dual_annealing\n",
    "import random"
   ]
  },
  {
   "cell_type": "markdown",
   "metadata": {},
   "source": [
    "### Variable Naming Scheme"
   ]
  },
  {
   "cell_type": "code",
   "execution_count": 2,
   "metadata": {},
   "outputs": [],
   "source": [
    "# _df = dataframe\n",
    "# rw = original data\n",
    "# ep = data sorted by pipe angles (i.e. elevation profile)\n",
    "# wd = reduced weld sizes i.e. 12.5 m\n",
    "# ds = discretised data\n",
    "# Del = delta values\n",
    "# Pipe = OLGA Pipe\n",
    "# Len = Length\n",
    "\n",
    "#Examples:\n",
    "# _dfrw = Dataframe with original data\n",
    "# _dfep = Dataframe with elevation profile\n",
    "# _Xrw = Original X Data\n",
    "# _XrwDel = Original X Delta\n",
    "# _Yrw = Original Y Data\n",
    "# _YrwDel = Original Y Delta\n",
    "# _LenRw = Original Length Data\n",
    "# _PipeLenRw = Pipe Length Original Data"
   ]
  },
  {
   "cell_type": "markdown",
   "metadata": {},
   "source": [
    "### Load Raw Profile Data"
   ]
  },
  {
   "cell_type": "code",
   "execution_count": 3,
   "metadata": {},
   "outputs": [],
   "source": [
    "PATH = \"../data\"\n",
    "_dfrw = pd.read_csv(f'{PATH}/profile.csv')"
   ]
  },
  {
   "cell_type": "code",
   "execution_count": 4,
   "metadata": {},
   "outputs": [
    {
     "data": {
      "text/html": [
       "<div>\n",
       "<style scoped>\n",
       "    .dataframe tbody tr th:only-of-type {\n",
       "        vertical-align: middle;\n",
       "    }\n",
       "\n",
       "    .dataframe tbody tr th {\n",
       "        vertical-align: top;\n",
       "    }\n",
       "\n",
       "    .dataframe thead th {\n",
       "        text-align: right;\n",
       "    }\n",
       "</style>\n",
       "<table border=\"1\" class=\"dataframe\">\n",
       "  <thead>\n",
       "    <tr style=\"text-align: right;\">\n",
       "      <th></th>\n",
       "      <th>X</th>\n",
       "      <th>Y</th>\n",
       "    </tr>\n",
       "  </thead>\n",
       "  <tbody>\n",
       "    <tr>\n",
       "      <th>0</th>\n",
       "      <td>0</td>\n",
       "      <td>-919.09</td>\n",
       "    </tr>\n",
       "    <tr>\n",
       "      <th>1</th>\n",
       "      <td>3</td>\n",
       "      <td>-919.07</td>\n",
       "    </tr>\n",
       "    <tr>\n",
       "      <th>2</th>\n",
       "      <td>6</td>\n",
       "      <td>-919.02</td>\n",
       "    </tr>\n",
       "    <tr>\n",
       "      <th>3</th>\n",
       "      <td>9</td>\n",
       "      <td>-919.01</td>\n",
       "    </tr>\n",
       "    <tr>\n",
       "      <th>4</th>\n",
       "      <td>12</td>\n",
       "      <td>-918.93</td>\n",
       "    </tr>\n",
       "    <tr>\n",
       "      <th>5</th>\n",
       "      <td>15</td>\n",
       "      <td>-918.97</td>\n",
       "    </tr>\n",
       "    <tr>\n",
       "      <th>6</th>\n",
       "      <td>18</td>\n",
       "      <td>-918.93</td>\n",
       "    </tr>\n",
       "    <tr>\n",
       "      <th>7</th>\n",
       "      <td>21</td>\n",
       "      <td>-918.85</td>\n",
       "    </tr>\n",
       "    <tr>\n",
       "      <th>8</th>\n",
       "      <td>24</td>\n",
       "      <td>-918.85</td>\n",
       "    </tr>\n",
       "    <tr>\n",
       "      <th>9</th>\n",
       "      <td>27</td>\n",
       "      <td>-918.80</td>\n",
       "    </tr>\n",
       "  </tbody>\n",
       "</table>\n",
       "</div>"
      ],
      "text/plain": [
       "    X       Y\n",
       "0   0 -919.09\n",
       "1   3 -919.07\n",
       "2   6 -919.02\n",
       "3   9 -919.01\n",
       "4  12 -918.93\n",
       "5  15 -918.97\n",
       "6  18 -918.93\n",
       "7  21 -918.85\n",
       "8  24 -918.85\n",
       "9  27 -918.80"
      ]
     },
     "execution_count": 4,
     "metadata": {},
     "output_type": "execute_result"
    }
   ],
   "source": [
    "_dfrw.head(10)"
   ]
  },
  {
   "cell_type": "code",
   "execution_count": 5,
   "metadata": {},
   "outputs": [],
   "source": [
    "_X_start = _dfrw['X'].iloc[0]\n",
    "_X_end = _dfrw['X'].iloc[-1]\n",
    "_Y_start = _dfrw['Y'].iloc[0]\n",
    "_Y_end = _dfrw['Y'].iloc[-1]"
   ]
  },
  {
   "cell_type": "code",
   "execution_count": 6,
   "metadata": {},
   "outputs": [
    {
     "data": {
      "image/png": "[encoded data removed]",
      "text/plain": [
       "<Figure size 720x360 with 1 Axes>"
      ]
     },
     "metadata": {
      "needs_background": "light"
     },
     "output_type": "display_data"
    }
   ],
   "source": [
    "plt.figure(figsize=(10,5))\n",
    "plt.plot(_dfrw['X'], _dfrw['Y'])\n",
    "plt.show()"
   ]
  },
  {
   "cell_type": "markdown",
   "metadata": {},
   "source": [
    "### Calculate Length and Elevation Change"
   ]
  },
  {
   "cell_type": "code",
   "execution_count": 7,
   "metadata": {},
   "outputs": [],
   "source": [
    "#calculate delta X and delta y values\n",
    "_dfrw['XrwDel'] = _dfrw['X'] - _dfrw['X'].shift(1)\n",
    "_dfrw['YrwDel'] = _dfrw['Y'] - _dfrw['Y'].shift(1)"
   ]
  },
  {
   "cell_type": "code",
   "execution_count": 8,
   "metadata": {},
   "outputs": [
    {
     "data": {
      "text/html": [
       "<div>\n",
       "<style scoped>\n",
       "    .dataframe tbody tr th:only-of-type {\n",
       "        vertical-align: middle;\n",
       "    }\n",
       "\n",
       "    .dataframe tbody tr th {\n",
       "        vertical-align: top;\n",
       "    }\n",
       "\n",
       "    .dataframe thead th {\n",
       "        text-align: right;\n",
       "    }\n",
       "</style>\n",
       "<table border=\"1\" class=\"dataframe\">\n",
       "  <thead>\n",
       "    <tr style=\"text-align: right;\">\n",
       "      <th></th>\n",
       "      <th>X</th>\n",
       "      <th>Y</th>\n",
       "      <th>XrwDel</th>\n",
       "      <th>YrwDel</th>\n",
       "    </tr>\n",
       "  </thead>\n",
       "  <tbody>\n",
       "    <tr>\n",
       "      <th>0</th>\n",
       "      <td>0</td>\n",
       "      <td>-919.09</td>\n",
       "      <td>NaN</td>\n",
       "      <td>NaN</td>\n",
       "    </tr>\n",
       "    <tr>\n",
       "      <th>1</th>\n",
       "      <td>3</td>\n",
       "      <td>-919.07</td>\n",
       "      <td>3.0</td>\n",
       "      <td>0.02</td>\n",
       "    </tr>\n",
       "    <tr>\n",
       "      <th>2</th>\n",
       "      <td>6</td>\n",
       "      <td>-919.02</td>\n",
       "      <td>3.0</td>\n",
       "      <td>0.05</td>\n",
       "    </tr>\n",
       "    <tr>\n",
       "      <th>3</th>\n",
       "      <td>9</td>\n",
       "      <td>-919.01</td>\n",
       "      <td>3.0</td>\n",
       "      <td>0.01</td>\n",
       "    </tr>\n",
       "    <tr>\n",
       "      <th>4</th>\n",
       "      <td>12</td>\n",
       "      <td>-918.93</td>\n",
       "      <td>3.0</td>\n",
       "      <td>0.08</td>\n",
       "    </tr>\n",
       "  </tbody>\n",
       "</table>\n",
       "</div>"
      ],
      "text/plain": [
       "    X       Y  XrwDel  YrwDel\n",
       "0   0 -919.09     NaN     NaN\n",
       "1   3 -919.07     3.0    0.02\n",
       "2   6 -919.02     3.0    0.05\n",
       "3   9 -919.01     3.0    0.01\n",
       "4  12 -918.93     3.0    0.08"
      ]
     },
     "execution_count": 8,
     "metadata": {},
     "output_type": "execute_result"
    }
   ],
   "source": [
    "_dfrw.head(5)"
   ]
  },
  {
   "cell_type": "code",
   "execution_count": 9,
   "metadata": {},
   "outputs": [],
   "source": [
    "#Calculate length of each segment\n",
    "_dfrw['PipeLenRw'] = np.sqrt(_dfrw['XrwDel']**2 + _dfrw['YrwDel']**2)"
   ]
  },
  {
   "cell_type": "code",
   "execution_count": 10,
   "metadata": {},
   "outputs": [
    {
     "data": {
      "text/html": [
       "<div>\n",
       "<style scoped>\n",
       "    .dataframe tbody tr th:only-of-type {\n",
       "        vertical-align: middle;\n",
       "    }\n",
       "\n",
       "    .dataframe tbody tr th {\n",
       "        vertical-align: top;\n",
       "    }\n",
       "\n",
       "    .dataframe thead th {\n",
       "        text-align: right;\n",
       "    }\n",
       "</style>\n",
       "<table border=\"1\" class=\"dataframe\">\n",
       "  <thead>\n",
       "    <tr style=\"text-align: right;\">\n",
       "      <th></th>\n",
       "      <th>X</th>\n",
       "      <th>Y</th>\n",
       "      <th>XrwDel</th>\n",
       "      <th>YrwDel</th>\n",
       "      <th>PipeLenRw</th>\n",
       "    </tr>\n",
       "  </thead>\n",
       "  <tbody>\n",
       "    <tr>\n",
       "      <th>0</th>\n",
       "      <td>0</td>\n",
       "      <td>-919.09</td>\n",
       "      <td>NaN</td>\n",
       "      <td>NaN</td>\n",
       "      <td>NaN</td>\n",
       "    </tr>\n",
       "    <tr>\n",
       "      <th>1</th>\n",
       "      <td>3</td>\n",
       "      <td>-919.07</td>\n",
       "      <td>3.0</td>\n",
       "      <td>0.02</td>\n",
       "      <td>3.000067</td>\n",
       "    </tr>\n",
       "    <tr>\n",
       "      <th>2</th>\n",
       "      <td>6</td>\n",
       "      <td>-919.02</td>\n",
       "      <td>3.0</td>\n",
       "      <td>0.05</td>\n",
       "      <td>3.000417</td>\n",
       "    </tr>\n",
       "    <tr>\n",
       "      <th>3</th>\n",
       "      <td>9</td>\n",
       "      <td>-919.01</td>\n",
       "      <td>3.0</td>\n",
       "      <td>0.01</td>\n",
       "      <td>3.000017</td>\n",
       "    </tr>\n",
       "    <tr>\n",
       "      <th>4</th>\n",
       "      <td>12</td>\n",
       "      <td>-918.93</td>\n",
       "      <td>3.0</td>\n",
       "      <td>0.08</td>\n",
       "      <td>3.001066</td>\n",
       "    </tr>\n",
       "  </tbody>\n",
       "</table>\n",
       "</div>"
      ],
      "text/plain": [
       "    X       Y  XrwDel  YrwDel  PipeLenRw\n",
       "0   0 -919.09     NaN     NaN        NaN\n",
       "1   3 -919.07     3.0    0.02   3.000067\n",
       "2   6 -919.02     3.0    0.05   3.000417\n",
       "3   9 -919.01     3.0    0.01   3.000017\n",
       "4  12 -918.93     3.0    0.08   3.001066"
      ]
     },
     "execution_count": 10,
     "metadata": {},
     "output_type": "execute_result"
    }
   ],
   "source": [
    "_dfrw.head(5)"
   ]
  },
  {
   "cell_type": "code",
   "execution_count": 11,
   "metadata": {},
   "outputs": [],
   "source": [
    "# calculate pipeline length\n",
    "_dfrw['LenRw'] = _dfrw['PipeLenRw'].cumsum()\n",
    "_dfrw.at[0, 'LenRw'] = 0"
   ]
  },
  {
   "cell_type": "code",
   "execution_count": 12,
   "metadata": {},
   "outputs": [
    {
     "data": {
      "text/html": [
       "<div>\n",
       "<style scoped>\n",
       "    .dataframe tbody tr th:only-of-type {\n",
       "        vertical-align: middle;\n",
       "    }\n",
       "\n",
       "    .dataframe tbody tr th {\n",
       "        vertical-align: top;\n",
       "    }\n",
       "\n",
       "    .dataframe thead th {\n",
       "        text-align: right;\n",
       "    }\n",
       "</style>\n",
       "<table border=\"1\" class=\"dataframe\">\n",
       "  <thead>\n",
       "    <tr style=\"text-align: right;\">\n",
       "      <th></th>\n",
       "      <th>X</th>\n",
       "      <th>Y</th>\n",
       "      <th>XrwDel</th>\n",
       "      <th>YrwDel</th>\n",
       "      <th>PipeLenRw</th>\n",
       "      <th>LenRw</th>\n",
       "    </tr>\n",
       "  </thead>\n",
       "  <tbody>\n",
       "    <tr>\n",
       "      <th>0</th>\n",
       "      <td>0</td>\n",
       "      <td>-919.09</td>\n",
       "      <td>NaN</td>\n",
       "      <td>NaN</td>\n",
       "      <td>NaN</td>\n",
       "      <td>0.000000</td>\n",
       "    </tr>\n",
       "    <tr>\n",
       "      <th>1</th>\n",
       "      <td>3</td>\n",
       "      <td>-919.07</td>\n",
       "      <td>3.0</td>\n",
       "      <td>0.02</td>\n",
       "      <td>3.000067</td>\n",
       "      <td>3.000067</td>\n",
       "    </tr>\n",
       "    <tr>\n",
       "      <th>2</th>\n",
       "      <td>6</td>\n",
       "      <td>-919.02</td>\n",
       "      <td>3.0</td>\n",
       "      <td>0.05</td>\n",
       "      <td>3.000417</td>\n",
       "      <td>6.000483</td>\n",
       "    </tr>\n",
       "    <tr>\n",
       "      <th>3</th>\n",
       "      <td>9</td>\n",
       "      <td>-919.01</td>\n",
       "      <td>3.0</td>\n",
       "      <td>0.01</td>\n",
       "      <td>3.000017</td>\n",
       "      <td>9.000500</td>\n",
       "    </tr>\n",
       "    <tr>\n",
       "      <th>4</th>\n",
       "      <td>12</td>\n",
       "      <td>-918.93</td>\n",
       "      <td>3.0</td>\n",
       "      <td>0.08</td>\n",
       "      <td>3.001066</td>\n",
       "      <td>12.001566</td>\n",
       "    </tr>\n",
       "  </tbody>\n",
       "</table>\n",
       "</div>"
      ],
      "text/plain": [
       "    X       Y  XrwDel  YrwDel  PipeLenRw      LenRw\n",
       "0   0 -919.09     NaN     NaN        NaN   0.000000\n",
       "1   3 -919.07     3.0    0.02   3.000067   3.000067\n",
       "2   6 -919.02     3.0    0.05   3.000417   6.000483\n",
       "3   9 -919.01     3.0    0.01   3.000017   9.000500\n",
       "4  12 -918.93     3.0    0.08   3.001066  12.001566"
      ]
     },
     "execution_count": 12,
     "metadata": {},
     "output_type": "execute_result"
    }
   ],
   "source": [
    "_dfrw.head(5)"
   ]
  },
  {
   "cell_type": "markdown",
   "metadata": {},
   "source": [
    "### Resample X Data to 12.5 m (Weld Distance) and Selected Discretisation Length"
   ]
  },
  {
   "cell_type": "code",
   "execution_count": 13,
   "metadata": {},
   "outputs": [],
   "source": [
    "wd = 12.5 # Weld Distance\n",
    "ds = 75 # Discretisation Length\n",
    "_LenRw = _dfrw['LenRw'].values\n",
    "_Yrw = _dfrw['Y'].values\n",
    "f = interpolate.interp1d(_LenRw, _Yrw) # Scipy Interpolation Function\n",
    "_Len_Total = _dfrw['LenRw'].iloc[-1] # Total Pipeline Length"
   ]
  },
  {
   "cell_type": "code",
   "execution_count": 14,
   "metadata": {},
   "outputs": [],
   "source": [
    "_Lenwd = np.arange(0, _Len_Total, wd) # Reduced pipeline length to weld distance\n",
    "_Lends = np.arange(0, _Len_Total, ds) # Reduced pipeline length to discretisation distance\n",
    "_Lenwd[-1] = _Len_Total\n",
    "_Lends[-1] = _Len_Total\n",
    "_ywd = pd.Series(f(_Lenwd)) # Calculate y values for reduced length\n",
    "_yds = pd.Series(f(_Lends)) # Calculate y values for reduced length\n",
    "_Lenwd = pd.Series(_Lenwd)\n",
    "_Lends = pd.Series(_Lends)"
   ]
  },
  {
   "cell_type": "code",
   "execution_count": 15,
   "metadata": {},
   "outputs": [],
   "source": [
    "_dfrw['Lenwd'] = _Lenwd\n",
    "_dfrw['Lends'] = _Lends\n",
    "_dfrw['Ywd'] = _ywd\n",
    "_dfrw['Yds'] = _yds"
   ]
  },
  {
   "cell_type": "code",
   "execution_count": 16,
   "metadata": {},
   "outputs": [
    {
     "data": {
      "text/html": [
       "<div>\n",
       "<style scoped>\n",
       "    .dataframe tbody tr th:only-of-type {\n",
       "        vertical-align: middle;\n",
       "    }\n",
       "\n",
       "    .dataframe tbody tr th {\n",
       "        vertical-align: top;\n",
       "    }\n",
       "\n",
       "    .dataframe thead th {\n",
       "        text-align: right;\n",
       "    }\n",
       "</style>\n",
       "<table border=\"1\" class=\"dataframe\">\n",
       "  <thead>\n",
       "    <tr style=\"text-align: right;\">\n",
       "      <th></th>\n",
       "      <th>X</th>\n",
       "      <th>Y</th>\n",
       "      <th>XrwDel</th>\n",
       "      <th>YrwDel</th>\n",
       "      <th>PipeLenRw</th>\n",
       "      <th>LenRw</th>\n",
       "      <th>Lenwd</th>\n",
       "      <th>Lends</th>\n",
       "      <th>Ywd</th>\n",
       "      <th>Yds</th>\n",
       "    </tr>\n",
       "  </thead>\n",
       "  <tbody>\n",
       "    <tr>\n",
       "      <th>0</th>\n",
       "      <td>0</td>\n",
       "      <td>-919.09</td>\n",
       "      <td>NaN</td>\n",
       "      <td>NaN</td>\n",
       "      <td>NaN</td>\n",
       "      <td>0.000000</td>\n",
       "      <td>0.0</td>\n",
       "      <td>0.0</td>\n",
       "      <td>-919.090000</td>\n",
       "      <td>-919.090000</td>\n",
       "    </tr>\n",
       "    <tr>\n",
       "      <th>1</th>\n",
       "      <td>3</td>\n",
       "      <td>-919.07</td>\n",
       "      <td>3.0</td>\n",
       "      <td>0.02</td>\n",
       "      <td>3.000067</td>\n",
       "      <td>3.000067</td>\n",
       "      <td>12.5</td>\n",
       "      <td>75.0</td>\n",
       "      <td>-918.936645</td>\n",
       "      <td>-918.330027</td>\n",
       "    </tr>\n",
       "    <tr>\n",
       "      <th>2</th>\n",
       "      <td>6</td>\n",
       "      <td>-919.02</td>\n",
       "      <td>3.0</td>\n",
       "      <td>0.05</td>\n",
       "      <td>3.000417</td>\n",
       "      <td>6.000483</td>\n",
       "      <td>25.0</td>\n",
       "      <td>150.0</td>\n",
       "      <td>-918.833388</td>\n",
       "      <td>-917.970036</td>\n",
       "    </tr>\n",
       "    <tr>\n",
       "      <th>3</th>\n",
       "      <td>9</td>\n",
       "      <td>-919.01</td>\n",
       "      <td>3.0</td>\n",
       "      <td>0.01</td>\n",
       "      <td>3.000017</td>\n",
       "      <td>9.000500</td>\n",
       "      <td>37.5</td>\n",
       "      <td>225.0</td>\n",
       "      <td>-918.680062</td>\n",
       "      <td>-917.999859</td>\n",
       "    </tr>\n",
       "    <tr>\n",
       "      <th>4</th>\n",
       "      <td>12</td>\n",
       "      <td>-918.93</td>\n",
       "      <td>3.0</td>\n",
       "      <td>0.08</td>\n",
       "      <td>3.001066</td>\n",
       "      <td>12.001566</td>\n",
       "      <td>50.0</td>\n",
       "      <td>300.0</td>\n",
       "      <td>-918.606650</td>\n",
       "      <td>-918.219810</td>\n",
       "    </tr>\n",
       "    <tr>\n",
       "      <th>5</th>\n",
       "      <td>15</td>\n",
       "      <td>-918.97</td>\n",
       "      <td>3.0</td>\n",
       "      <td>-0.04</td>\n",
       "      <td>3.000267</td>\n",
       "      <td>15.001833</td>\n",
       "      <td>62.5</td>\n",
       "      <td>375.0</td>\n",
       "      <td>-918.476621</td>\n",
       "      <td>-918.250068</td>\n",
       "    </tr>\n",
       "    <tr>\n",
       "      <th>6</th>\n",
       "      <td>18</td>\n",
       "      <td>-918.93</td>\n",
       "      <td>3.0</td>\n",
       "      <td>0.04</td>\n",
       "      <td>3.000267</td>\n",
       "      <td>18.002100</td>\n",
       "      <td>75.0</td>\n",
       "      <td>450.0</td>\n",
       "      <td>-918.330027</td>\n",
       "      <td>-917.910000</td>\n",
       "    </tr>\n",
       "    <tr>\n",
       "      <th>7</th>\n",
       "      <td>21</td>\n",
       "      <td>-918.85</td>\n",
       "      <td>3.0</td>\n",
       "      <td>0.08</td>\n",
       "      <td>3.001066</td>\n",
       "      <td>21.003166</td>\n",
       "      <td>87.5</td>\n",
       "      <td>525.0</td>\n",
       "      <td>-918.255084</td>\n",
       "      <td>-917.840179</td>\n",
       "    </tr>\n",
       "    <tr>\n",
       "      <th>8</th>\n",
       "      <td>24</td>\n",
       "      <td>-918.85</td>\n",
       "      <td>3.0</td>\n",
       "      <td>0.00</td>\n",
       "      <td>3.000000</td>\n",
       "      <td>24.003166</td>\n",
       "      <td>100.0</td>\n",
       "      <td>600.0</td>\n",
       "      <td>-918.143302</td>\n",
       "      <td>-917.759810</td>\n",
       "    </tr>\n",
       "    <tr>\n",
       "      <th>9</th>\n",
       "      <td>27</td>\n",
       "      <td>-918.80</td>\n",
       "      <td>3.0</td>\n",
       "      <td>0.05</td>\n",
       "      <td>3.000417</td>\n",
       "      <td>27.003583</td>\n",
       "      <td>112.5</td>\n",
       "      <td>675.0</td>\n",
       "      <td>-918.070064</td>\n",
       "      <td>-917.589890</td>\n",
       "    </tr>\n",
       "  </tbody>\n",
       "</table>\n",
       "</div>"
      ],
      "text/plain": [
       "    X       Y  XrwDel  YrwDel  PipeLenRw      LenRw  Lenwd  Lends         Ywd  \\\n",
       "0   0 -919.09     NaN     NaN        NaN   0.000000    0.0    0.0 -919.090000   \n",
       "1   3 -919.07     3.0    0.02   3.000067   3.000067   12.5   75.0 -918.936645   \n",
       "2   6 -919.02     3.0    0.05   3.000417   6.000483   25.0  150.0 -918.833388   \n",
       "3   9 -919.01     3.0    0.01   3.000017   9.000500   37.5  225.0 -918.680062   \n",
       "4  12 -918.93     3.0    0.08   3.001066  12.001566   50.0  300.0 -918.606650   \n",
       "5  15 -918.97     3.0   -0.04   3.000267  15.001833   62.5  375.0 -918.476621   \n",
       "6  18 -918.93     3.0    0.04   3.000267  18.002100   75.0  450.0 -918.330027   \n",
       "7  21 -918.85     3.0    0.08   3.001066  21.003166   87.5  525.0 -918.255084   \n",
       "8  24 -918.85     3.0    0.00   3.000000  24.003166  100.0  600.0 -918.143302   \n",
       "9  27 -918.80     3.0    0.05   3.000417  27.003583  112.5  675.0 -918.070064   \n",
       "\n",
       "          Yds  \n",
       "0 -919.090000  \n",
       "1 -918.330027  \n",
       "2 -917.970036  \n",
       "3 -917.999859  \n",
       "4 -918.219810  \n",
       "5 -918.250068  \n",
       "6 -917.910000  \n",
       "7 -917.840179  \n",
       "8 -917.759810  \n",
       "9 -917.589890  "
      ]
     },
     "execution_count": 16,
     "metadata": {},
     "output_type": "execute_result"
    }
   ],
   "source": [
    "_dfrw.head(10)"
   ]
  },
  {
   "cell_type": "code",
   "execution_count": 17,
   "metadata": {},
   "outputs": [
    {
     "data": {
      "image/png": "[encoded data removed]",
      "text/plain": [
       "<Figure size 720x360 with 1 Axes>"
      ]
     },
     "metadata": {
      "needs_background": "light"
     },
     "output_type": "display_data"
    }
   ],
   "source": [
    "plt.figure(figsize=(10,5))\n",
    "plt.plot(_dfrw['LenRw'], _dfrw['Y'])\n",
    "plt.plot(_dfrw['Lenwd'], _dfrw['Ywd'], '-')\n",
    "plt.plot(_dfrw['Lends'], _dfrw['Yds'], '--')\n",
    "plt.show()"
   ]
  },
  {
   "cell_type": "markdown",
   "metadata": {},
   "source": [
    "### Calculate Length and Angles"
   ]
  },
  {
   "cell_type": "code",
   "execution_count": 18,
   "metadata": {},
   "outputs": [],
   "source": [
    "_dfrw['PipeLenwd'] = _dfrw['Lenwd'] - _dfrw['Lenwd'].shift(1)\n",
    "_dfrw['YwdDel'] = _dfrw['Ywd'] - _dfrw['Ywd'].shift(1)\n",
    "_dfrw['PipeLends'] = _dfrw['Lends'] - _dfrw['Lends'].shift(1)\n",
    "_dfrw['YdsDel'] = _dfrw['Yds'] - _dfrw['Yds'].shift(1)\n",
    "_dfrw['anglesds'] = np.arctan(_dfrw['YdsDel'] / _dfrw['PipeLends']) * 180 / 3.141592653589793\n",
    "_dfrw['angleswd'] = np.arctan(_dfrw['YwdDel'] / _dfrw['PipeLenwd']) * 180 / 3.141592653589793\n",
    "_dfrw['anglesrw'] = np.arctan(_dfrw['YrwDel'] / _dfrw['PipeLenRw']) * 180 / 3.141592653589793"
   ]
  },
  {
   "cell_type": "code",
   "execution_count": 19,
   "metadata": {},
   "outputs": [
    {
     "data": {
      "text/html": [
       "<div>\n",
       "<style scoped>\n",
       "    .dataframe tbody tr th:only-of-type {\n",
       "        vertical-align: middle;\n",
       "    }\n",
       "\n",
       "    .dataframe tbody tr th {\n",
       "        vertical-align: top;\n",
       "    }\n",
       "\n",
       "    .dataframe thead th {\n",
       "        text-align: right;\n",
       "    }\n",
       "</style>\n",
       "<table border=\"1\" class=\"dataframe\">\n",
       "  <thead>\n",
       "    <tr style=\"text-align: right;\">\n",
       "      <th></th>\n",
       "      <th>X</th>\n",
       "      <th>Y</th>\n",
       "      <th>XrwDel</th>\n",
       "      <th>YrwDel</th>\n",
       "      <th>PipeLenRw</th>\n",
       "      <th>LenRw</th>\n",
       "      <th>Lenwd</th>\n",
       "      <th>Lends</th>\n",
       "      <th>Ywd</th>\n",
       "      <th>Yds</th>\n",
       "      <th>PipeLenwd</th>\n",
       "      <th>YwdDel</th>\n",
       "      <th>PipeLends</th>\n",
       "      <th>YdsDel</th>\n",
       "      <th>anglesds</th>\n",
       "      <th>angleswd</th>\n",
       "      <th>anglesrw</th>\n",
       "    </tr>\n",
       "  </thead>\n",
       "  <tbody>\n",
       "    <tr>\n",
       "      <th>0</th>\n",
       "      <td>0</td>\n",
       "      <td>-919.09</td>\n",
       "      <td>NaN</td>\n",
       "      <td>NaN</td>\n",
       "      <td>NaN</td>\n",
       "      <td>0.000000</td>\n",
       "      <td>0.0</td>\n",
       "      <td>0.0</td>\n",
       "      <td>-919.090000</td>\n",
       "      <td>-919.090000</td>\n",
       "      <td>NaN</td>\n",
       "      <td>NaN</td>\n",
       "      <td>NaN</td>\n",
       "      <td>NaN</td>\n",
       "      <td>NaN</td>\n",
       "      <td>NaN</td>\n",
       "      <td>NaN</td>\n",
       "    </tr>\n",
       "    <tr>\n",
       "      <th>1</th>\n",
       "      <td>3</td>\n",
       "      <td>-919.07</td>\n",
       "      <td>3.0</td>\n",
       "      <td>0.02</td>\n",
       "      <td>3.000067</td>\n",
       "      <td>3.000067</td>\n",
       "      <td>12.5</td>\n",
       "      <td>75.0</td>\n",
       "      <td>-918.936645</td>\n",
       "      <td>-918.330027</td>\n",
       "      <td>12.5</td>\n",
       "      <td>0.153355</td>\n",
       "      <td>75.0</td>\n",
       "      <td>0.759973</td>\n",
       "      <td>0.580557</td>\n",
       "      <td>0.702891</td>\n",
       "      <td>0.381958</td>\n",
       "    </tr>\n",
       "    <tr>\n",
       "      <th>2</th>\n",
       "      <td>6</td>\n",
       "      <td>-919.02</td>\n",
       "      <td>3.0</td>\n",
       "      <td>0.05</td>\n",
       "      <td>3.000417</td>\n",
       "      <td>6.000483</td>\n",
       "      <td>25.0</td>\n",
       "      <td>150.0</td>\n",
       "      <td>-918.833388</td>\n",
       "      <td>-917.970036</td>\n",
       "      <td>12.5</td>\n",
       "      <td>0.103257</td>\n",
       "      <td>75.0</td>\n",
       "      <td>0.359991</td>\n",
       "      <td>0.275010</td>\n",
       "      <td>0.473283</td>\n",
       "      <td>0.954709</td>\n",
       "    </tr>\n",
       "    <tr>\n",
       "      <th>3</th>\n",
       "      <td>9</td>\n",
       "      <td>-919.01</td>\n",
       "      <td>3.0</td>\n",
       "      <td>0.01</td>\n",
       "      <td>3.000017</td>\n",
       "      <td>9.000500</td>\n",
       "      <td>37.5</td>\n",
       "      <td>225.0</td>\n",
       "      <td>-918.680062</td>\n",
       "      <td>-917.999859</td>\n",
       "      <td>12.5</td>\n",
       "      <td>0.153326</td>\n",
       "      <td>75.0</td>\n",
       "      <td>-0.029822</td>\n",
       "      <td>-0.022783</td>\n",
       "      <td>0.702759</td>\n",
       "      <td>0.190984</td>\n",
       "    </tr>\n",
       "    <tr>\n",
       "      <th>4</th>\n",
       "      <td>12</td>\n",
       "      <td>-918.93</td>\n",
       "      <td>3.0</td>\n",
       "      <td>0.08</td>\n",
       "      <td>3.001066</td>\n",
       "      <td>12.001566</td>\n",
       "      <td>50.0</td>\n",
       "      <td>300.0</td>\n",
       "      <td>-918.606650</td>\n",
       "      <td>-918.219810</td>\n",
       "      <td>12.5</td>\n",
       "      <td>0.073413</td>\n",
       "      <td>75.0</td>\n",
       "      <td>-0.219951</td>\n",
       "      <td>-0.168030</td>\n",
       "      <td>0.336495</td>\n",
       "      <td>1.526983</td>\n",
       "    </tr>\n",
       "  </tbody>\n",
       "</table>\n",
       "</div>"
      ],
      "text/plain": [
       "    X       Y  XrwDel  YrwDel  PipeLenRw      LenRw  Lenwd  Lends         Ywd  \\\n",
       "0   0 -919.09     NaN     NaN        NaN   0.000000    0.0    0.0 -919.090000   \n",
       "1   3 -919.07     3.0    0.02   3.000067   3.000067   12.5   75.0 -918.936645   \n",
       "2   6 -919.02     3.0    0.05   3.000417   6.000483   25.0  150.0 -918.833388   \n",
       "3   9 -919.01     3.0    0.01   3.000017   9.000500   37.5  225.0 -918.680062   \n",
       "4  12 -918.93     3.0    0.08   3.001066  12.001566   50.0  300.0 -918.606650   \n",
       "\n",
       "          Yds  PipeLenwd    YwdDel  PipeLends    YdsDel  anglesds  angleswd  \\\n",
       "0 -919.090000        NaN       NaN        NaN       NaN       NaN       NaN   \n",
       "1 -918.330027       12.5  0.153355       75.0  0.759973  0.580557  0.702891   \n",
       "2 -917.970036       12.5  0.103257       75.0  0.359991  0.275010  0.473283   \n",
       "3 -917.999859       12.5  0.153326       75.0 -0.029822 -0.022783  0.702759   \n",
       "4 -918.219810       12.5  0.073413       75.0 -0.219951 -0.168030  0.336495   \n",
       "\n",
       "   anglesrw  \n",
       "0       NaN  \n",
       "1  0.381958  \n",
       "2  0.954709  \n",
       "3  0.190984  \n",
       "4  1.526983  "
      ]
     },
     "execution_count": 19,
     "metadata": {},
     "output_type": "execute_result"
    }
   ],
   "source": [
    "_dfrw.head(5)"
   ]
  },
  {
   "cell_type": "code",
   "execution_count": 20,
   "metadata": {},
   "outputs": [
    {
     "name": "stderr",
     "output_type": "stream",
     "text": [
      "C:\\ProgramData\\Anaconda3\\envs\\MachineLearning\\lib\\site-packages\\numpy\\lib\\histograms.py:823: RuntimeWarning: invalid value encountered in true_divide\n",
      "  return n/db/n.sum(), bin_edges\n"
     ]
    },
    {
     "data": {
      "text/plain": [
       "[]"
      ]
     },
     "execution_count": 20,
     "metadata": {},
     "output_type": "execute_result"
    },
    {
     "data": {
      "image/png": "[encoded data removed]",
      "text/plain": [
       "<Figure size 720x360 with 1 Axes>"
      ]
     },
     "metadata": {
      "needs_background": "light"
     },
     "output_type": "display_data"
    }
   ],
   "source": [
    "# Plot the Angle Class Chart\n",
    "plt.figure(figsize=(10,5))\n",
    "bins = np.linspace(-5, 5, 100)\n",
    "plt.hist(_dfrw['angleswd']/_dfrw.count(), bins, density = True, label = 'Weld Pipe Sections')\n",
    "plt.hist(_dfrw['anglesrw'], bins, alpha=0.5, density = True, label = 'Original Pipe Sections')\n",
    "plt.legend(loc='upper right')\n",
    "plt.xticks(np.arange(-5, 5+1, 1.0))\n",
    "plt.plot()"
   ]
  },
  {
   "cell_type": "code",
   "execution_count": 21,
   "metadata": {},
   "outputs": [],
   "source": [
    "_dfm1 = _dfrw[['PipeLends', 'YdsDel', 'anglesds']].copy()\n",
    "_dfm1['PipeIdx'] = _dfm1.index\n",
    "_dfep = _dfrw[['PipeLenwd', 'YwdDel', 'angleswd']].copy()"
   ]
  },
  {
   "cell_type": "code",
   "execution_count": 22,
   "metadata": {},
   "outputs": [],
   "source": [
    "tot_pipes = _dfm1['PipeLends'].count()\n",
    "_dfm1 = _dfm1.iloc[0:tot_pipes+1, :]\n",
    "tot_pipes = _dfep['PipeLenwd'].count()\n",
    "_dfep = _dfep.iloc[0:tot_pipes+1, :]"
   ]
  },
  {
   "cell_type": "markdown",
   "metadata": {},
   "source": [
    "### Sort by Acending Angles"
   ]
  },
  {
   "cell_type": "code",
   "execution_count": 23,
   "metadata": {},
   "outputs": [],
   "source": [
    "_dfm1[1:] = _dfm1[1:].sort_values(by = 'anglesds').values\n",
    "_dfep[1:] = _dfep[1:].sort_values(by = 'angleswd').values"
   ]
  },
  {
   "cell_type": "code",
   "execution_count": 24,
   "metadata": {},
   "outputs": [
    {
     "data": {
      "text/html": [
       "<div>\n",
       "<style scoped>\n",
       "    .dataframe tbody tr th:only-of-type {\n",
       "        vertical-align: middle;\n",
       "    }\n",
       "\n",
       "    .dataframe tbody tr th {\n",
       "        vertical-align: top;\n",
       "    }\n",
       "\n",
       "    .dataframe thead th {\n",
       "        text-align: right;\n",
       "    }\n",
       "</style>\n",
       "<table border=\"1\" class=\"dataframe\">\n",
       "  <thead>\n",
       "    <tr style=\"text-align: right;\">\n",
       "      <th></th>\n",
       "      <th>PipeLends</th>\n",
       "      <th>YdsDel</th>\n",
       "      <th>anglesds</th>\n",
       "      <th>PipeIdx</th>\n",
       "    </tr>\n",
       "  </thead>\n",
       "  <tbody>\n",
       "    <tr>\n",
       "      <th>0</th>\n",
       "      <td>NaN</td>\n",
       "      <td>NaN</td>\n",
       "      <td>NaN</td>\n",
       "      <td>0.0</td>\n",
       "    </tr>\n",
       "    <tr>\n",
       "      <th>1</th>\n",
       "      <td>75.0</td>\n",
       "      <td>-2.329215</td>\n",
       "      <td>-1.778818</td>\n",
       "      <td>113.0</td>\n",
       "    </tr>\n",
       "    <tr>\n",
       "      <th>2</th>\n",
       "      <td>75.0</td>\n",
       "      <td>-2.032268</td>\n",
       "      <td>-1.552159</td>\n",
       "      <td>136.0</td>\n",
       "    </tr>\n",
       "    <tr>\n",
       "      <th>3</th>\n",
       "      <td>75.0</td>\n",
       "      <td>-1.923129</td>\n",
       "      <td>-1.468841</td>\n",
       "      <td>112.0</td>\n",
       "    </tr>\n",
       "    <tr>\n",
       "      <th>4</th>\n",
       "      <td>75.0</td>\n",
       "      <td>-1.842745</td>\n",
       "      <td>-1.407470</td>\n",
       "      <td>110.0</td>\n",
       "    </tr>\n",
       "    <tr>\n",
       "      <th>5</th>\n",
       "      <td>75.0</td>\n",
       "      <td>-1.835434</td>\n",
       "      <td>-1.401889</td>\n",
       "      <td>114.0</td>\n",
       "    </tr>\n",
       "    <tr>\n",
       "      <th>6</th>\n",
       "      <td>75.0</td>\n",
       "      <td>-1.809333</td>\n",
       "      <td>-1.381961</td>\n",
       "      <td>109.0</td>\n",
       "    </tr>\n",
       "    <tr>\n",
       "      <th>7</th>\n",
       "      <td>75.0</td>\n",
       "      <td>-1.737773</td>\n",
       "      <td>-1.327323</td>\n",
       "      <td>111.0</td>\n",
       "    </tr>\n",
       "    <tr>\n",
       "      <th>8</th>\n",
       "      <td>75.0</td>\n",
       "      <td>-1.603510</td>\n",
       "      <td>-1.224805</td>\n",
       "      <td>108.0</td>\n",
       "    </tr>\n",
       "    <tr>\n",
       "      <th>9</th>\n",
       "      <td>75.0</td>\n",
       "      <td>-1.504369</td>\n",
       "      <td>-1.149100</td>\n",
       "      <td>124.0</td>\n",
       "    </tr>\n",
       "  </tbody>\n",
       "</table>\n",
       "</div>"
      ],
      "text/plain": [
       "   PipeLends    YdsDel  anglesds  PipeIdx\n",
       "0        NaN       NaN       NaN      0.0\n",
       "1       75.0 -2.329215 -1.778818    113.0\n",
       "2       75.0 -2.032268 -1.552159    136.0\n",
       "3       75.0 -1.923129 -1.468841    112.0\n",
       "4       75.0 -1.842745 -1.407470    110.0\n",
       "5       75.0 -1.835434 -1.401889    114.0\n",
       "6       75.0 -1.809333 -1.381961    109.0\n",
       "7       75.0 -1.737773 -1.327323    111.0\n",
       "8       75.0 -1.603510 -1.224805    108.0\n",
       "9       75.0 -1.504369 -1.149100    124.0"
      ]
     },
     "execution_count": 24,
     "metadata": {},
     "output_type": "execute_result"
    }
   ],
   "source": [
    "_dfm1.head(10)"
   ]
  },
  {
   "cell_type": "code",
   "execution_count": 25,
   "metadata": {},
   "outputs": [
    {
     "data": {
      "text/html": [
       "<div>\n",
       "<style scoped>\n",
       "    .dataframe tbody tr th:only-of-type {\n",
       "        vertical-align: middle;\n",
       "    }\n",
       "\n",
       "    .dataframe tbody tr th {\n",
       "        vertical-align: top;\n",
       "    }\n",
       "\n",
       "    .dataframe thead th {\n",
       "        text-align: right;\n",
       "    }\n",
       "</style>\n",
       "<table border=\"1\" class=\"dataframe\">\n",
       "  <thead>\n",
       "    <tr style=\"text-align: right;\">\n",
       "      <th></th>\n",
       "      <th>PipeLenwd</th>\n",
       "      <th>YwdDel</th>\n",
       "      <th>angleswd</th>\n",
       "    </tr>\n",
       "  </thead>\n",
       "  <tbody>\n",
       "    <tr>\n",
       "      <th>0</th>\n",
       "      <td>NaN</td>\n",
       "      <td>NaN</td>\n",
       "      <td>NaN</td>\n",
       "    </tr>\n",
       "    <tr>\n",
       "      <th>1</th>\n",
       "      <td>12.5</td>\n",
       "      <td>-0.455373</td>\n",
       "      <td>-2.086351</td>\n",
       "    </tr>\n",
       "    <tr>\n",
       "      <th>2</th>\n",
       "      <td>12.5</td>\n",
       "      <td>-0.428858</td>\n",
       "      <td>-1.964970</td>\n",
       "    </tr>\n",
       "    <tr>\n",
       "      <th>3</th>\n",
       "      <td>12.5</td>\n",
       "      <td>-0.427700</td>\n",
       "      <td>-1.959669</td>\n",
       "    </tr>\n",
       "    <tr>\n",
       "      <th>4</th>\n",
       "      <td>12.5</td>\n",
       "      <td>-0.406745</td>\n",
       "      <td>-1.863726</td>\n",
       "    </tr>\n",
       "    <tr>\n",
       "      <th>5</th>\n",
       "      <td>12.5</td>\n",
       "      <td>-0.392000</td>\n",
       "      <td>-1.796208</td>\n",
       "    </tr>\n",
       "    <tr>\n",
       "      <th>6</th>\n",
       "      <td>12.5</td>\n",
       "      <td>-0.384933</td>\n",
       "      <td>-1.763844</td>\n",
       "    </tr>\n",
       "    <tr>\n",
       "      <th>7</th>\n",
       "      <td>12.5</td>\n",
       "      <td>-0.377588</td>\n",
       "      <td>-1.730210</td>\n",
       "    </tr>\n",
       "    <tr>\n",
       "      <th>8</th>\n",
       "      <td>12.5</td>\n",
       "      <td>-0.375107</td>\n",
       "      <td>-1.718849</td>\n",
       "    </tr>\n",
       "    <tr>\n",
       "      <th>9</th>\n",
       "      <td>12.5</td>\n",
       "      <td>-0.362315</td>\n",
       "      <td>-1.660266</td>\n",
       "    </tr>\n",
       "  </tbody>\n",
       "</table>\n",
       "</div>"
      ],
      "text/plain": [
       "   PipeLenwd    YwdDel  angleswd\n",
       "0        NaN       NaN       NaN\n",
       "1       12.5 -0.455373 -2.086351\n",
       "2       12.5 -0.428858 -1.964970\n",
       "3       12.5 -0.427700 -1.959669\n",
       "4       12.5 -0.406745 -1.863726\n",
       "5       12.5 -0.392000 -1.796208\n",
       "6       12.5 -0.384933 -1.763844\n",
       "7       12.5 -0.377588 -1.730210\n",
       "8       12.5 -0.375107 -1.718849\n",
       "9       12.5 -0.362315 -1.660266"
      ]
     },
     "execution_count": 25,
     "metadata": {},
     "output_type": "execute_result"
    }
   ],
   "source": [
    "_dfep.head(10)"
   ]
  },
  {
   "cell_type": "markdown",
   "metadata": {},
   "source": [
    "### Calculate the Elevation Profile"
   ]
  },
  {
   "cell_type": "code",
   "execution_count": 26,
   "metadata": {},
   "outputs": [],
   "source": [
    "_dfep['Lenep'] = _dfep['PipeLenwd'].cumsum()\n",
    "_dfep['Yep'] = _dfep['YwdDel'].cumsum() + _Y_start\n",
    "_dfep.at[0, 'Lenep'] = 0\n",
    "_dfep.at[0, 'Yep'] = _Y_start"
   ]
  },
  {
   "cell_type": "code",
   "execution_count": 27,
   "metadata": {},
   "outputs": [
    {
     "data": {
      "text/html": [
       "<div>\n",
       "<style scoped>\n",
       "    .dataframe tbody tr th:only-of-type {\n",
       "        vertical-align: middle;\n",
       "    }\n",
       "\n",
       "    .dataframe tbody tr th {\n",
       "        vertical-align: top;\n",
       "    }\n",
       "\n",
       "    .dataframe thead th {\n",
       "        text-align: right;\n",
       "    }\n",
       "</style>\n",
       "<table border=\"1\" class=\"dataframe\">\n",
       "  <thead>\n",
       "    <tr style=\"text-align: right;\">\n",
       "      <th></th>\n",
       "      <th>PipeLenwd</th>\n",
       "      <th>YwdDel</th>\n",
       "      <th>angleswd</th>\n",
       "      <th>Lenep</th>\n",
       "      <th>Yep</th>\n",
       "    </tr>\n",
       "  </thead>\n",
       "  <tbody>\n",
       "    <tr>\n",
       "      <th>0</th>\n",
       "      <td>NaN</td>\n",
       "      <td>NaN</td>\n",
       "      <td>NaN</td>\n",
       "      <td>0.0</td>\n",
       "      <td>-919.090000</td>\n",
       "    </tr>\n",
       "    <tr>\n",
       "      <th>1</th>\n",
       "      <td>12.5</td>\n",
       "      <td>-0.455373</td>\n",
       "      <td>-2.086351</td>\n",
       "      <td>12.5</td>\n",
       "      <td>-919.545373</td>\n",
       "    </tr>\n",
       "    <tr>\n",
       "      <th>2</th>\n",
       "      <td>12.5</td>\n",
       "      <td>-0.428858</td>\n",
       "      <td>-1.964970</td>\n",
       "      <td>25.0</td>\n",
       "      <td>-919.974231</td>\n",
       "    </tr>\n",
       "    <tr>\n",
       "      <th>3</th>\n",
       "      <td>12.5</td>\n",
       "      <td>-0.427700</td>\n",
       "      <td>-1.959669</td>\n",
       "      <td>37.5</td>\n",
       "      <td>-920.401931</td>\n",
       "    </tr>\n",
       "    <tr>\n",
       "      <th>4</th>\n",
       "      <td>12.5</td>\n",
       "      <td>-0.406745</td>\n",
       "      <td>-1.863726</td>\n",
       "      <td>50.0</td>\n",
       "      <td>-920.808676</td>\n",
       "    </tr>\n",
       "    <tr>\n",
       "      <th>5</th>\n",
       "      <td>12.5</td>\n",
       "      <td>-0.392000</td>\n",
       "      <td>-1.796208</td>\n",
       "      <td>62.5</td>\n",
       "      <td>-921.200676</td>\n",
       "    </tr>\n",
       "    <tr>\n",
       "      <th>6</th>\n",
       "      <td>12.5</td>\n",
       "      <td>-0.384933</td>\n",
       "      <td>-1.763844</td>\n",
       "      <td>75.0</td>\n",
       "      <td>-921.585609</td>\n",
       "    </tr>\n",
       "    <tr>\n",
       "      <th>7</th>\n",
       "      <td>12.5</td>\n",
       "      <td>-0.377588</td>\n",
       "      <td>-1.730210</td>\n",
       "      <td>87.5</td>\n",
       "      <td>-921.963197</td>\n",
       "    </tr>\n",
       "    <tr>\n",
       "      <th>8</th>\n",
       "      <td>12.5</td>\n",
       "      <td>-0.375107</td>\n",
       "      <td>-1.718849</td>\n",
       "      <td>100.0</td>\n",
       "      <td>-922.338304</td>\n",
       "    </tr>\n",
       "    <tr>\n",
       "      <th>9</th>\n",
       "      <td>12.5</td>\n",
       "      <td>-0.362315</td>\n",
       "      <td>-1.660266</td>\n",
       "      <td>112.5</td>\n",
       "      <td>-922.700620</td>\n",
       "    </tr>\n",
       "  </tbody>\n",
       "</table>\n",
       "</div>"
      ],
      "text/plain": [
       "   PipeLenwd    YwdDel  angleswd  Lenep         Yep\n",
       "0        NaN       NaN       NaN    0.0 -919.090000\n",
       "1       12.5 -0.455373 -2.086351   12.5 -919.545373\n",
       "2       12.5 -0.428858 -1.964970   25.0 -919.974231\n",
       "3       12.5 -0.427700 -1.959669   37.5 -920.401931\n",
       "4       12.5 -0.406745 -1.863726   50.0 -920.808676\n",
       "5       12.5 -0.392000 -1.796208   62.5 -921.200676\n",
       "6       12.5 -0.384933 -1.763844   75.0 -921.585609\n",
       "7       12.5 -0.377588 -1.730210   87.5 -921.963197\n",
       "8       12.5 -0.375107 -1.718849  100.0 -922.338304\n",
       "9       12.5 -0.362315 -1.660266  112.5 -922.700620"
      ]
     },
     "execution_count": 27,
     "metadata": {},
     "output_type": "execute_result"
    }
   ],
   "source": [
    "_dfep.head(10)"
   ]
  },
  {
   "cell_type": "code",
   "execution_count": 28,
   "metadata": {},
   "outputs": [
    {
     "data": {
      "image/png": "[encoded data removed]",
      "text/plain": [
       "<Figure size 720x360 with 1 Axes>"
      ]
     },
     "metadata": {
      "needs_background": "light"
     },
     "output_type": "display_data"
    }
   ],
   "source": [
    "plt.figure(figsize=(10,5))\n",
    "plt.plot(_dfrw['Lenwd'], _dfrw['Ywd'])\n",
    "plt.plot(_dfep['Lenep'], _dfep['Yep'])\n",
    "plt.show()"
   ]
  },
  {
   "cell_type": "markdown",
   "metadata": {},
   "source": [
    "### Discretise the Elevation Profile"
   ]
  },
  {
   "cell_type": "code",
   "execution_count": 29,
   "metadata": {},
   "outputs": [],
   "source": [
    "_Lenep = _dfep['Lenep'].dropna().values\n",
    "_Yep = _dfep['Yep'].dropna().values\n",
    "f = interpolate.interp1d(_Lenep, _Yep) # Scipy Interpolation Function\n",
    "_Lends = np.arange(0, _Len_Total, ds) # Reduced pipeline length to discretisation distance\n",
    "_Lends[-1] = _Len_Total\n",
    "_yds = pd.Series(f(_Lends)) # Calculate y values for reduced length\n",
    "_Lends = pd.Series(_Lends)\n",
    "_dfep['Lends'] = _Lends\n",
    "_dfep['Yds'] = _yds"
   ]
  },
  {
   "cell_type": "code",
   "execution_count": 30,
   "metadata": {},
   "outputs": [
    {
     "data": {
      "text/html": [
       "<div>\n",
       "<style scoped>\n",
       "    .dataframe tbody tr th:only-of-type {\n",
       "        vertical-align: middle;\n",
       "    }\n",
       "\n",
       "    .dataframe tbody tr th {\n",
       "        vertical-align: top;\n",
       "    }\n",
       "\n",
       "    .dataframe thead th {\n",
       "        text-align: right;\n",
       "    }\n",
       "</style>\n",
       "<table border=\"1\" class=\"dataframe\">\n",
       "  <thead>\n",
       "    <tr style=\"text-align: right;\">\n",
       "      <th></th>\n",
       "      <th>PipeLenwd</th>\n",
       "      <th>YwdDel</th>\n",
       "      <th>angleswd</th>\n",
       "      <th>Lenep</th>\n",
       "      <th>Yep</th>\n",
       "      <th>Lends</th>\n",
       "      <th>Yds</th>\n",
       "    </tr>\n",
       "  </thead>\n",
       "  <tbody>\n",
       "    <tr>\n",
       "      <th>0</th>\n",
       "      <td>NaN</td>\n",
       "      <td>NaN</td>\n",
       "      <td>NaN</td>\n",
       "      <td>0.0</td>\n",
       "      <td>-919.090000</td>\n",
       "      <td>0.0</td>\n",
       "      <td>-919.090000</td>\n",
       "    </tr>\n",
       "    <tr>\n",
       "      <th>1</th>\n",
       "      <td>12.5</td>\n",
       "      <td>-0.455373</td>\n",
       "      <td>-2.086351</td>\n",
       "      <td>12.5</td>\n",
       "      <td>-919.545373</td>\n",
       "      <td>75.0</td>\n",
       "      <td>-921.585609</td>\n",
       "    </tr>\n",
       "    <tr>\n",
       "      <th>2</th>\n",
       "      <td>12.5</td>\n",
       "      <td>-0.428858</td>\n",
       "      <td>-1.964970</td>\n",
       "      <td>25.0</td>\n",
       "      <td>-919.974231</td>\n",
       "      <td>150.0</td>\n",
       "      <td>-923.778734</td>\n",
       "    </tr>\n",
       "    <tr>\n",
       "      <th>3</th>\n",
       "      <td>12.5</td>\n",
       "      <td>-0.427700</td>\n",
       "      <td>-1.959669</td>\n",
       "      <td>37.5</td>\n",
       "      <td>-920.401931</td>\n",
       "      <td>225.0</td>\n",
       "      <td>-925.816682</td>\n",
       "    </tr>\n",
       "    <tr>\n",
       "      <th>4</th>\n",
       "      <td>12.5</td>\n",
       "      <td>-0.406745</td>\n",
       "      <td>-1.863726</td>\n",
       "      <td>50.0</td>\n",
       "      <td>-920.808676</td>\n",
       "      <td>300.0</td>\n",
       "      <td>-927.721792</td>\n",
       "    </tr>\n",
       "  </tbody>\n",
       "</table>\n",
       "</div>"
      ],
      "text/plain": [
       "   PipeLenwd    YwdDel  angleswd  Lenep         Yep  Lends         Yds\n",
       "0        NaN       NaN       NaN    0.0 -919.090000    0.0 -919.090000\n",
       "1       12.5 -0.455373 -2.086351   12.5 -919.545373   75.0 -921.585609\n",
       "2       12.5 -0.428858 -1.964970   25.0 -919.974231  150.0 -923.778734\n",
       "3       12.5 -0.427700 -1.959669   37.5 -920.401931  225.0 -925.816682\n",
       "4       12.5 -0.406745 -1.863726   50.0 -920.808676  300.0 -927.721792"
      ]
     },
     "execution_count": 30,
     "metadata": {},
     "output_type": "execute_result"
    }
   ],
   "source": [
    "_dfep.head(5)"
   ]
  },
  {
   "cell_type": "code",
   "execution_count": 31,
   "metadata": {},
   "outputs": [
    {
     "data": {
      "image/png": "[encoded data removed]",
      "text/plain": [
       "<Figure size 720x360 with 1 Axes>"
      ]
     },
     "metadata": {
      "needs_background": "light"
     },
     "output_type": "display_data"
    }
   ],
   "source": [
    "plt.figure(figsize=(10,5))\n",
    "plt.plot(_dfep['Lenep'], _dfep['Yep'])\n",
    "plt.plot(_dfep['Lends'], _dfep['Yds'], 'r+')\n",
    "plt.show()"
   ]
  },
  {
   "cell_type": "markdown",
   "metadata": {},
   "source": [
    "### Calculate Lengths and Angles"
   ]
  },
  {
   "cell_type": "code",
   "execution_count": 32,
   "metadata": {},
   "outputs": [],
   "source": [
    "_dfep['PipeLends'] = _dfep['Lends'] - _dfep['Lends'].shift(1)\n",
    "_dfep['YdsDel'] = _dfep['Yds'] - _dfep['Yds'].shift(1)\n",
    "_dfep['anglesds'] = np.arctan(_dfep['YdsDel'] / _dfep['PipeLends']) * 180 / 3.141592653589793"
   ]
  },
  {
   "cell_type": "code",
   "execution_count": 33,
   "metadata": {},
   "outputs": [
    {
     "data": {
      "text/html": [
       "<div>\n",
       "<style scoped>\n",
       "    .dataframe tbody tr th:only-of-type {\n",
       "        vertical-align: middle;\n",
       "    }\n",
       "\n",
       "    .dataframe tbody tr th {\n",
       "        vertical-align: top;\n",
       "    }\n",
       "\n",
       "    .dataframe thead th {\n",
       "        text-align: right;\n",
       "    }\n",
       "</style>\n",
       "<table border=\"1\" class=\"dataframe\">\n",
       "  <thead>\n",
       "    <tr style=\"text-align: right;\">\n",
       "      <th></th>\n",
       "      <th>PipeLenwd</th>\n",
       "      <th>YwdDel</th>\n",
       "      <th>angleswd</th>\n",
       "      <th>Lenep</th>\n",
       "      <th>Yep</th>\n",
       "      <th>Lends</th>\n",
       "      <th>Yds</th>\n",
       "      <th>PipeLends</th>\n",
       "      <th>YdsDel</th>\n",
       "      <th>anglesds</th>\n",
       "    </tr>\n",
       "  </thead>\n",
       "  <tbody>\n",
       "    <tr>\n",
       "      <th>0</th>\n",
       "      <td>NaN</td>\n",
       "      <td>NaN</td>\n",
       "      <td>NaN</td>\n",
       "      <td>0.0</td>\n",
       "      <td>-919.090000</td>\n",
       "      <td>0.0</td>\n",
       "      <td>-919.090000</td>\n",
       "      <td>NaN</td>\n",
       "      <td>NaN</td>\n",
       "      <td>NaN</td>\n",
       "    </tr>\n",
       "    <tr>\n",
       "      <th>1</th>\n",
       "      <td>12.5</td>\n",
       "      <td>-0.455373</td>\n",
       "      <td>-2.086351</td>\n",
       "      <td>12.5</td>\n",
       "      <td>-919.545373</td>\n",
       "      <td>75.0</td>\n",
       "      <td>-921.585609</td>\n",
       "      <td>75.0</td>\n",
       "      <td>-2.495609</td>\n",
       "      <td>-1.905802</td>\n",
       "    </tr>\n",
       "    <tr>\n",
       "      <th>2</th>\n",
       "      <td>12.5</td>\n",
       "      <td>-0.428858</td>\n",
       "      <td>-1.964970</td>\n",
       "      <td>25.0</td>\n",
       "      <td>-919.974231</td>\n",
       "      <td>150.0</td>\n",
       "      <td>-923.778734</td>\n",
       "      <td>75.0</td>\n",
       "      <td>-2.193125</td>\n",
       "      <td>-1.674947</td>\n",
       "    </tr>\n",
       "    <tr>\n",
       "      <th>3</th>\n",
       "      <td>12.5</td>\n",
       "      <td>-0.427700</td>\n",
       "      <td>-1.959669</td>\n",
       "      <td>37.5</td>\n",
       "      <td>-920.401931</td>\n",
       "      <td>225.0</td>\n",
       "      <td>-925.816682</td>\n",
       "      <td>75.0</td>\n",
       "      <td>-2.037948</td>\n",
       "      <td>-1.556494</td>\n",
       "    </tr>\n",
       "    <tr>\n",
       "      <th>4</th>\n",
       "      <td>12.5</td>\n",
       "      <td>-0.406745</td>\n",
       "      <td>-1.863726</td>\n",
       "      <td>50.0</td>\n",
       "      <td>-920.808676</td>\n",
       "      <td>300.0</td>\n",
       "      <td>-927.721792</td>\n",
       "      <td>75.0</td>\n",
       "      <td>-1.905110</td>\n",
       "      <td>-1.455084</td>\n",
       "    </tr>\n",
       "  </tbody>\n",
       "</table>\n",
       "</div>"
      ],
      "text/plain": [
       "   PipeLenwd    YwdDel  angleswd  Lenep         Yep  Lends         Yds  \\\n",
       "0        NaN       NaN       NaN    0.0 -919.090000    0.0 -919.090000   \n",
       "1       12.5 -0.455373 -2.086351   12.5 -919.545373   75.0 -921.585609   \n",
       "2       12.5 -0.428858 -1.964970   25.0 -919.974231  150.0 -923.778734   \n",
       "3       12.5 -0.427700 -1.959669   37.5 -920.401931  225.0 -925.816682   \n",
       "4       12.5 -0.406745 -1.863726   50.0 -920.808676  300.0 -927.721792   \n",
       "\n",
       "   PipeLends    YdsDel  anglesds  \n",
       "0        NaN       NaN       NaN  \n",
       "1       75.0 -2.495609 -1.905802  \n",
       "2       75.0 -2.193125 -1.674947  \n",
       "3       75.0 -2.037948 -1.556494  \n",
       "4       75.0 -1.905110 -1.455084  "
      ]
     },
     "execution_count": 33,
     "metadata": {},
     "output_type": "execute_result"
    }
   ],
   "source": [
    "_dfep.head(5)"
   ]
  },
  {
   "cell_type": "code",
   "execution_count": 34,
   "metadata": {},
   "outputs": [
    {
     "data": {
      "text/plain": [
       "[]"
      ]
     },
     "execution_count": 34,
     "metadata": {},
     "output_type": "execute_result"
    },
    {
     "data": {
      "image/png": "[encoded data removed]",
      "text/plain": [
       "<Figure size 720x360 with 1 Axes>"
      ]
     },
     "metadata": {
      "needs_background": "light"
     },
     "output_type": "display_data"
    }
   ],
   "source": [
    "# Plot the Angle Class Chart\n",
    "plt.figure(figsize=(10,5))\n",
    "bins = np.linspace(-5, 5, 100)\n",
    "plt.hist(_dfep['angleswd'], bins, density = True, label = 'Weld Pipe Sections')\n",
    "plt.hist(_dfep['anglesds'], bins, density = True, alpha=0.5, label = 'Discretised Pipe Sections')\n",
    "plt.legend(loc='upper right')\n",
    "plt.xticks(np.arange(-5, 5+1, 1.0))\n",
    "plt.plot()"
   ]
  },
  {
   "cell_type": "markdown",
   "metadata": {},
   "source": [
    "### Optimise"
   ]
  },
  {
   "cell_type": "code",
   "execution_count": 35,
   "metadata": {},
   "outputs": [],
   "source": [
    "_dfds = _dfep[['PipeLends', 'YdsDel', 'Lends', 'Yds']].copy()"
   ]
  },
  {
   "cell_type": "code",
   "execution_count": 36,
   "metadata": {},
   "outputs": [],
   "source": [
    "tot_pipes = _dfds['PipeLends'].count()\n",
    "_dfds = _dfds.iloc[0:tot_pipes+1, :]"
   ]
  },
  {
   "cell_type": "code",
   "execution_count": 37,
   "metadata": {},
   "outputs": [
    {
     "data": {
      "text/html": [
       "<div>\n",
       "<style scoped>\n",
       "    .dataframe tbody tr th:only-of-type {\n",
       "        vertical-align: middle;\n",
       "    }\n",
       "\n",
       "    .dataframe tbody tr th {\n",
       "        vertical-align: top;\n",
       "    }\n",
       "\n",
       "    .dataframe thead th {\n",
       "        text-align: right;\n",
       "    }\n",
       "</style>\n",
       "<table border=\"1\" class=\"dataframe\">\n",
       "  <thead>\n",
       "    <tr style=\"text-align: right;\">\n",
       "      <th></th>\n",
       "      <th>PipeLends</th>\n",
       "      <th>YdsDel</th>\n",
       "      <th>Lends</th>\n",
       "      <th>Yds</th>\n",
       "    </tr>\n",
       "  </thead>\n",
       "  <tbody>\n",
       "    <tr>\n",
       "      <th>0</th>\n",
       "      <td>NaN</td>\n",
       "      <td>NaN</td>\n",
       "      <td>0.0</td>\n",
       "      <td>-919.090000</td>\n",
       "    </tr>\n",
       "    <tr>\n",
       "      <th>1</th>\n",
       "      <td>75.0</td>\n",
       "      <td>-2.495609</td>\n",
       "      <td>75.0</td>\n",
       "      <td>-921.585609</td>\n",
       "    </tr>\n",
       "    <tr>\n",
       "      <th>2</th>\n",
       "      <td>75.0</td>\n",
       "      <td>-2.193125</td>\n",
       "      <td>150.0</td>\n",
       "      <td>-923.778734</td>\n",
       "    </tr>\n",
       "    <tr>\n",
       "      <th>3</th>\n",
       "      <td>75.0</td>\n",
       "      <td>-2.037948</td>\n",
       "      <td>225.0</td>\n",
       "      <td>-925.816682</td>\n",
       "    </tr>\n",
       "    <tr>\n",
       "      <th>4</th>\n",
       "      <td>75.0</td>\n",
       "      <td>-1.905110</td>\n",
       "      <td>300.0</td>\n",
       "      <td>-927.721792</td>\n",
       "    </tr>\n",
       "  </tbody>\n",
       "</table>\n",
       "</div>"
      ],
      "text/plain": [
       "   PipeLends    YdsDel  Lends         Yds\n",
       "0        NaN       NaN    0.0 -919.090000\n",
       "1       75.0 -2.495609   75.0 -921.585609\n",
       "2       75.0 -2.193125  150.0 -923.778734\n",
       "3       75.0 -2.037948  225.0 -925.816682\n",
       "4       75.0 -1.905110  300.0 -927.721792"
      ]
     },
     "execution_count": 37,
     "metadata": {},
     "output_type": "execute_result"
    }
   ],
   "source": [
    "_dfds.head(5)"
   ]
  },
  {
   "cell_type": "code",
   "execution_count": 38,
   "metadata": {},
   "outputs": [],
   "source": [
    "_dfds['PipeIdx'] = _dfm1['PipeIdx'].values"
   ]
  },
  {
   "cell_type": "code",
   "execution_count": 39,
   "metadata": {},
   "outputs": [
    {
     "data": {
      "text/html": [
       "<div>\n",
       "<style scoped>\n",
       "    .dataframe tbody tr th:only-of-type {\n",
       "        vertical-align: middle;\n",
       "    }\n",
       "\n",
       "    .dataframe tbody tr th {\n",
       "        vertical-align: top;\n",
       "    }\n",
       "\n",
       "    .dataframe thead th {\n",
       "        text-align: right;\n",
       "    }\n",
       "</style>\n",
       "<table border=\"1\" class=\"dataframe\">\n",
       "  <thead>\n",
       "    <tr style=\"text-align: right;\">\n",
       "      <th></th>\n",
       "      <th>PipeLends</th>\n",
       "      <th>YdsDel</th>\n",
       "      <th>Lends</th>\n",
       "      <th>Yds</th>\n",
       "      <th>PipeIdx</th>\n",
       "    </tr>\n",
       "  </thead>\n",
       "  <tbody>\n",
       "    <tr>\n",
       "      <th>0</th>\n",
       "      <td>NaN</td>\n",
       "      <td>NaN</td>\n",
       "      <td>0.0</td>\n",
       "      <td>-919.090000</td>\n",
       "      <td>0.0</td>\n",
       "    </tr>\n",
       "    <tr>\n",
       "      <th>1</th>\n",
       "      <td>75.0</td>\n",
       "      <td>-2.495609</td>\n",
       "      <td>75.0</td>\n",
       "      <td>-921.585609</td>\n",
       "      <td>113.0</td>\n",
       "    </tr>\n",
       "    <tr>\n",
       "      <th>2</th>\n",
       "      <td>75.0</td>\n",
       "      <td>-2.193125</td>\n",
       "      <td>150.0</td>\n",
       "      <td>-923.778734</td>\n",
       "      <td>136.0</td>\n",
       "    </tr>\n",
       "    <tr>\n",
       "      <th>3</th>\n",
       "      <td>75.0</td>\n",
       "      <td>-2.037948</td>\n",
       "      <td>225.0</td>\n",
       "      <td>-925.816682</td>\n",
       "      <td>112.0</td>\n",
       "    </tr>\n",
       "    <tr>\n",
       "      <th>4</th>\n",
       "      <td>75.0</td>\n",
       "      <td>-1.905110</td>\n",
       "      <td>300.0</td>\n",
       "      <td>-927.721792</td>\n",
       "      <td>110.0</td>\n",
       "    </tr>\n",
       "  </tbody>\n",
       "</table>\n",
       "</div>"
      ],
      "text/plain": [
       "   PipeLends    YdsDel  Lends         Yds  PipeIdx\n",
       "0        NaN       NaN    0.0 -919.090000      0.0\n",
       "1       75.0 -2.495609   75.0 -921.585609    113.0\n",
       "2       75.0 -2.193125  150.0 -923.778734    136.0\n",
       "3       75.0 -2.037948  225.0 -925.816682    112.0\n",
       "4       75.0 -1.905110  300.0 -927.721792    110.0"
      ]
     },
     "execution_count": 39,
     "metadata": {},
     "output_type": "execute_result"
    }
   ],
   "source": [
    "_dfds.head(5)"
   ]
  },
  {
   "cell_type": "code",
   "execution_count": 40,
   "metadata": {},
   "outputs": [],
   "source": [
    "_dfds[1:] = _dfds[1:].sort_values(by = 'PipeIdx').values\n",
    "_dfds['Lends'] = _dfds['PipeLends'].cumsum()\n",
    "_dfds['Yds'] = _dfds['YdsDel'].cumsum() + _Y_start\n",
    "_dfds.at[0, 'Lends'] = 0\n",
    "_dfds.at[0, 'Yds'] = _Y_start"
   ]
  },
  {
   "cell_type": "code",
   "execution_count": 41,
   "metadata": {},
   "outputs": [
    {
     "data": {
      "text/html": [
       "<div>\n",
       "<style scoped>\n",
       "    .dataframe tbody tr th:only-of-type {\n",
       "        vertical-align: middle;\n",
       "    }\n",
       "\n",
       "    .dataframe tbody tr th {\n",
       "        vertical-align: top;\n",
       "    }\n",
       "\n",
       "    .dataframe thead th {\n",
       "        text-align: right;\n",
       "    }\n",
       "</style>\n",
       "<table border=\"1\" class=\"dataframe\">\n",
       "  <thead>\n",
       "    <tr style=\"text-align: right;\">\n",
       "      <th></th>\n",
       "      <th>PipeLends</th>\n",
       "      <th>YdsDel</th>\n",
       "      <th>Lends</th>\n",
       "      <th>Yds</th>\n",
       "      <th>PipeIdx</th>\n",
       "    </tr>\n",
       "  </thead>\n",
       "  <tbody>\n",
       "    <tr>\n",
       "      <th>0</th>\n",
       "      <td>NaN</td>\n",
       "      <td>NaN</td>\n",
       "      <td>0.0</td>\n",
       "      <td>-919.090000</td>\n",
       "      <td>0.0</td>\n",
       "    </tr>\n",
       "    <tr>\n",
       "      <th>1</th>\n",
       "      <td>75.0</td>\n",
       "      <td>0.754552</td>\n",
       "      <td>75.0</td>\n",
       "      <td>-918.335448</td>\n",
       "      <td>1.0</td>\n",
       "    </tr>\n",
       "    <tr>\n",
       "      <th>2</th>\n",
       "      <td>75.0</td>\n",
       "      <td>0.387720</td>\n",
       "      <td>150.0</td>\n",
       "      <td>-917.947728</td>\n",
       "      <td>2.0</td>\n",
       "    </tr>\n",
       "    <tr>\n",
       "      <th>3</th>\n",
       "      <td>75.0</td>\n",
       "      <td>-0.027539</td>\n",
       "      <td>225.0</td>\n",
       "      <td>-917.975268</td>\n",
       "      <td>3.0</td>\n",
       "    </tr>\n",
       "    <tr>\n",
       "      <th>4</th>\n",
       "      <td>75.0</td>\n",
       "      <td>-0.238883</td>\n",
       "      <td>300.0</td>\n",
       "      <td>-918.214151</td>\n",
       "      <td>4.0</td>\n",
       "    </tr>\n",
       "  </tbody>\n",
       "</table>\n",
       "</div>"
      ],
      "text/plain": [
       "   PipeLends    YdsDel  Lends         Yds  PipeIdx\n",
       "0        NaN       NaN    0.0 -919.090000      0.0\n",
       "1       75.0  0.754552   75.0 -918.335448      1.0\n",
       "2       75.0  0.387720  150.0 -917.947728      2.0\n",
       "3       75.0 -0.027539  225.0 -917.975268      3.0\n",
       "4       75.0 -0.238883  300.0 -918.214151      4.0"
      ]
     },
     "execution_count": 41,
     "metadata": {},
     "output_type": "execute_result"
    }
   ],
   "source": [
    "_dfds.head(5)"
   ]
  },
  {
   "cell_type": "code",
   "execution_count": 42,
   "metadata": {},
   "outputs": [
    {
     "data": {
      "image/png": "[encoded data removed]",
      "text/plain": [
       "<Figure size 720x360 with 1 Axes>"
      ]
     },
     "metadata": {
      "needs_background": "light"
     },
     "output_type": "display_data"
    }
   ],
   "source": [
    "plt.figure(figsize=(10,5))\n",
    "plt.plot(_dfrw['Lenwd'], _dfrw['Ywd'])\n",
    "plt.plot(_dfds['Lends'], _dfds['Yds'])\n",
    "plt.show()"
   ]
  },
  {
   "cell_type": "code",
   "execution_count": 54,
   "metadata": {},
   "outputs": [],
   "source": [
    "def optimise(pipeidx):\n",
    "    #pipeidx = pd.Series(pipeidx)\n",
    "    _dfdsc = _dfds.copy()\n",
    "    _dfdsc['PipeIdx'] = pipeidx\n",
    "    \n",
    "    _dfdsc[1:] = _dfdsc[1:].sort_values(by = 'PipeIdx').values\n",
    "    _dfdsc['Lends'] = _dfdsc['PipeLends'].cumsum()\n",
    "    _dfdsc['Yds'] = _dfdsc['YdsDel'].cumsum() + _Y_start\n",
    "    _dfdsc.at[0, 'Lends'] = 0\n",
    "    _dfdsc.at[0, 'Yds'] = _Y_start\n",
    "    \n",
    "    yds_new = _dfdsc['Yds'].dropna().values\n",
    "    yds_old = _dfrw['Yds'].dropna().values\n",
    "    mse = np.sum(np.sqrt((yds_old - yds_new)**2))\n",
    "    return mse"
   ]
  },
  {
   "cell_type": "code",
   "execution_count": 55,
   "metadata": {},
   "outputs": [],
   "source": [
    "yds_new = _dfds['Yds'].dropna().values\n",
    "yds_old = _dfrw['Yds'].dropna().values\n",
    "best_mse = np.sum(np.sqrt((yds_new - yds_old)**2))"
   ]
  },
  {
   "cell_type": "code",
   "execution_count": 56,
   "metadata": {},
   "outputs": [
    {
     "data": {
      "text/plain": [
       "97.01744059451983"
      ]
     },
     "execution_count": 56,
     "metadata": {},
     "output_type": "execute_result"
    }
   ],
   "source": [
    "best_mse"
   ]
  },
  {
   "cell_type": "code",
   "execution_count": 59,
   "metadata": {},
   "outputs": [],
   "source": [
    "bounds = [(0, _dfds.count()['PipeIdx']) for i in range(0, _dfds.count()['PipeIdx'])]"
   ]
  },
  {
   "cell_type": "code",
   "execution_count": 53,
   "metadata": {},
   "outputs": [
    {
     "ename": "IndexingError",
     "evalue": "Too many indexers",
     "output_type": "error",
     "traceback": [
      "\u001b[1;31m---------------------------------------------------------------------------\u001b[0m",
      "\u001b[1;31mIndexingError\u001b[0m                             Traceback (most recent call last)",
      "\u001b[1;32m<ipython-input-53-e7af5fd6ec74>\u001b[0m in \u001b[0;36m<module>\u001b[1;34m\u001b[0m\n\u001b[1;32m----> 1\u001b[1;33m \u001b[0mresult\u001b[0m \u001b[1;33m=\u001b[0m \u001b[0mdual_annealing\u001b[0m\u001b[1;33m(\u001b[0m\u001b[0moptimise\u001b[0m\u001b[1;33m,\u001b[0m \u001b[0mbounds\u001b[0m\u001b[1;33m,\u001b[0m \u001b[0mx0\u001b[0m \u001b[1;33m=\u001b[0m \u001b[0m_dfm1\u001b[0m\u001b[1;33m[\u001b[0m\u001b[1;34m'PipeIdx'\u001b[0m\u001b[1;33m]\u001b[0m\u001b[1;33m.\u001b[0m\u001b[0mvalues\u001b[0m\u001b[1;33m)\u001b[0m\u001b[1;33m\u001b[0m\u001b[1;33m\u001b[0m\u001b[0m\n\u001b[0m\u001b[0;32m      2\u001b[0m \u001b[1;31m#result = differential_evolution(optimise, bounds, workers = 4)\u001b[0m\u001b[1;33m\u001b[0m\u001b[1;33m\u001b[0m\u001b[1;33m\u001b[0m\u001b[0m\n",
      "\u001b[1;32mC:\\ProgramData\\Anaconda3\\envs\\MachineLearning\\lib\\site-packages\\scipy\\optimize\\_dual_annealing.py\u001b[0m in \u001b[0;36mdual_annealing\u001b[1;34m(func, bounds, args, maxiter, local_search_options, initial_temp, restart_temp_ratio, visit, accept, maxfun, seed, no_local_search, callback, x0)\u001b[0m\n\u001b[0;32m    618\u001b[0m     \u001b[1;31m# Initialization of the energy state\u001b[0m\u001b[1;33m\u001b[0m\u001b[1;33m\u001b[0m\u001b[1;33m\u001b[0m\u001b[0m\n\u001b[0;32m    619\u001b[0m     \u001b[0menergy_state\u001b[0m \u001b[1;33m=\u001b[0m \u001b[0mEnergyState\u001b[0m\u001b[1;33m(\u001b[0m\u001b[0mlower\u001b[0m\u001b[1;33m,\u001b[0m \u001b[0mupper\u001b[0m\u001b[1;33m,\u001b[0m \u001b[0mcallback\u001b[0m\u001b[1;33m)\u001b[0m\u001b[1;33m\u001b[0m\u001b[1;33m\u001b[0m\u001b[0m\n\u001b[1;32m--> 620\u001b[1;33m     \u001b[0menergy_state\u001b[0m\u001b[1;33m.\u001b[0m\u001b[0mreset\u001b[0m\u001b[1;33m(\u001b[0m\u001b[0mfunc_wrapper\u001b[0m\u001b[1;33m,\u001b[0m \u001b[0mrand_state\u001b[0m\u001b[1;33m,\u001b[0m \u001b[0mx0\u001b[0m\u001b[1;33m)\u001b[0m\u001b[1;33m\u001b[0m\u001b[1;33m\u001b[0m\u001b[0m\n\u001b[0m\u001b[0;32m    621\u001b[0m     \u001b[1;31m# Minimum value of annealing temperature reached to perform\u001b[0m\u001b[1;33m\u001b[0m\u001b[1;33m\u001b[0m\u001b[1;33m\u001b[0m\u001b[0m\n\u001b[0;32m    622\u001b[0m     \u001b[1;31m# re-annealing\u001b[0m\u001b[1;33m\u001b[0m\u001b[1;33m\u001b[0m\u001b[1;33m\u001b[0m\u001b[0m\n",
      "\u001b[1;32mC:\\ProgramData\\Anaconda3\\envs\\MachineLearning\\lib\\site-packages\\scipy\\optimize\\_dual_annealing.py\u001b[0m in \u001b[0;36mreset\u001b[1;34m(self, func_wrapper, rand_state, x0)\u001b[0m\n\u001b[0;32m    161\u001b[0m         \u001b[0mreinit_counter\u001b[0m \u001b[1;33m=\u001b[0m \u001b[1;36m0\u001b[0m\u001b[1;33m\u001b[0m\u001b[1;33m\u001b[0m\u001b[0m\n\u001b[0;32m    162\u001b[0m         \u001b[1;32mwhile\u001b[0m \u001b[0minit_error\u001b[0m\u001b[1;33m:\u001b[0m\u001b[1;33m\u001b[0m\u001b[1;33m\u001b[0m\u001b[0m\n\u001b[1;32m--> 163\u001b[1;33m             \u001b[0mself\u001b[0m\u001b[1;33m.\u001b[0m\u001b[0mcurrent_energy\u001b[0m \u001b[1;33m=\u001b[0m \u001b[0mfunc_wrapper\u001b[0m\u001b[1;33m.\u001b[0m\u001b[0mfun\u001b[0m\u001b[1;33m(\u001b[0m\u001b[0mself\u001b[0m\u001b[1;33m.\u001b[0m\u001b[0mcurrent_location\u001b[0m\u001b[1;33m)\u001b[0m\u001b[1;33m\u001b[0m\u001b[1;33m\u001b[0m\u001b[0m\n\u001b[0m\u001b[0;32m    164\u001b[0m             \u001b[1;32mif\u001b[0m \u001b[0mself\u001b[0m\u001b[1;33m.\u001b[0m\u001b[0mcurrent_energy\u001b[0m \u001b[1;32mis\u001b[0m \u001b[1;32mNone\u001b[0m\u001b[1;33m:\u001b[0m\u001b[1;33m\u001b[0m\u001b[1;33m\u001b[0m\u001b[0m\n\u001b[0;32m    165\u001b[0m                 \u001b[1;32mraise\u001b[0m \u001b[0mValueError\u001b[0m\u001b[1;33m(\u001b[0m\u001b[1;34m'Objective function is returning None'\u001b[0m\u001b[1;33m)\u001b[0m\u001b[1;33m\u001b[0m\u001b[1;33m\u001b[0m\u001b[0m\n",
      "\u001b[1;32mC:\\ProgramData\\Anaconda3\\envs\\MachineLearning\\lib\\site-packages\\scipy\\optimize\\_dual_annealing.py\u001b[0m in \u001b[0;36mfun\u001b[1;34m(self, x)\u001b[0m\n\u001b[0;32m    361\u001b[0m     \u001b[1;32mdef\u001b[0m \u001b[0mfun\u001b[0m\u001b[1;33m(\u001b[0m\u001b[0mself\u001b[0m\u001b[1;33m,\u001b[0m \u001b[0mx\u001b[0m\u001b[1;33m)\u001b[0m\u001b[1;33m:\u001b[0m\u001b[1;33m\u001b[0m\u001b[1;33m\u001b[0m\u001b[0m\n\u001b[0;32m    362\u001b[0m         \u001b[0mself\u001b[0m\u001b[1;33m.\u001b[0m\u001b[0mnfev\u001b[0m \u001b[1;33m+=\u001b[0m \u001b[1;36m1\u001b[0m\u001b[1;33m\u001b[0m\u001b[1;33m\u001b[0m\u001b[0m\n\u001b[1;32m--> 363\u001b[1;33m         \u001b[1;32mreturn\u001b[0m \u001b[0mself\u001b[0m\u001b[1;33m.\u001b[0m\u001b[0mfunc\u001b[0m\u001b[1;33m(\u001b[0m\u001b[0mx\u001b[0m\u001b[1;33m,\u001b[0m \u001b[1;33m*\u001b[0m\u001b[0mself\u001b[0m\u001b[1;33m.\u001b[0m\u001b[0margs\u001b[0m\u001b[1;33m)\u001b[0m\u001b[1;33m\u001b[0m\u001b[1;33m\u001b[0m\u001b[0m\n\u001b[0m\u001b[0;32m    364\u001b[0m \u001b[1;33m\u001b[0m\u001b[0m\n\u001b[0;32m    365\u001b[0m \u001b[1;33m\u001b[0m\u001b[0m\n",
      "\u001b[1;32m<ipython-input-47-1ca354be35d7>\u001b[0m in \u001b[0;36moptimise\u001b[1;34m(pipeidx)\u001b[0m\n\u001b[0;32m      2\u001b[0m     \u001b[1;31m#pipeidx = pd.Series(pipeidx)\u001b[0m\u001b[1;33m\u001b[0m\u001b[1;33m\u001b[0m\u001b[1;33m\u001b[0m\u001b[0m\n\u001b[0;32m      3\u001b[0m     \u001b[0m_dfdsc\u001b[0m \u001b[1;33m=\u001b[0m \u001b[0m_dfds\u001b[0m\u001b[1;33m.\u001b[0m\u001b[0mcopy\u001b[0m\u001b[1;33m(\u001b[0m\u001b[1;33m)\u001b[0m\u001b[1;33m\u001b[0m\u001b[1;33m\u001b[0m\u001b[0m\n\u001b[1;32m----> 4\u001b[1;33m     \u001b[0m_dfdsc\u001b[0m\u001b[1;33m[\u001b[0m\u001b[1;34m'PipeIdx'\u001b[0m\u001b[1;33m]\u001b[0m\u001b[1;33m.\u001b[0m\u001b[0miloc\u001b[0m\u001b[1;33m[\u001b[0m\u001b[1;36m1\u001b[0m\u001b[1;33m:\u001b[0m\u001b[1;33m,\u001b[0m \u001b[1;33m:\u001b[0m\u001b[1;33m]\u001b[0m \u001b[1;33m=\u001b[0m \u001b[0mpipeidx\u001b[0m\u001b[1;33m\u001b[0m\u001b[1;33m\u001b[0m\u001b[0m\n\u001b[0m\u001b[0;32m      5\u001b[0m \u001b[1;33m\u001b[0m\u001b[0m\n\u001b[0;32m      6\u001b[0m     \u001b[0m_dfdsc\u001b[0m\u001b[1;33m[\u001b[0m\u001b[1;36m1\u001b[0m\u001b[1;33m:\u001b[0m\u001b[1;33m]\u001b[0m \u001b[1;33m=\u001b[0m \u001b[0m_dfdsc\u001b[0m\u001b[1;33m[\u001b[0m\u001b[1;36m1\u001b[0m\u001b[1;33m:\u001b[0m\u001b[1;33m]\u001b[0m\u001b[1;33m.\u001b[0m\u001b[0msort_values\u001b[0m\u001b[1;33m(\u001b[0m\u001b[0mby\u001b[0m \u001b[1;33m=\u001b[0m \u001b[1;34m'PipeIdx'\u001b[0m\u001b[1;33m)\u001b[0m\u001b[1;33m.\u001b[0m\u001b[0mvalues\u001b[0m\u001b[1;33m\u001b[0m\u001b[1;33m\u001b[0m\u001b[0m\n",
      "\u001b[1;32mC:\\ProgramData\\Anaconda3\\envs\\MachineLearning\\lib\\site-packages\\pandas\\core\\indexing.py\u001b[0m in \u001b[0;36m__setitem__\u001b[1;34m(self, key, value)\u001b[0m\n\u001b[0;32m    187\u001b[0m         \u001b[1;32melse\u001b[0m\u001b[1;33m:\u001b[0m\u001b[1;33m\u001b[0m\u001b[1;33m\u001b[0m\u001b[0m\n\u001b[0;32m    188\u001b[0m             \u001b[0mkey\u001b[0m \u001b[1;33m=\u001b[0m \u001b[0mcom\u001b[0m\u001b[1;33m.\u001b[0m\u001b[0mapply_if_callable\u001b[0m\u001b[1;33m(\u001b[0m\u001b[0mkey\u001b[0m\u001b[1;33m,\u001b[0m \u001b[0mself\u001b[0m\u001b[1;33m.\u001b[0m\u001b[0mobj\u001b[0m\u001b[1;33m)\u001b[0m\u001b[1;33m\u001b[0m\u001b[1;33m\u001b[0m\u001b[0m\n\u001b[1;32m--> 189\u001b[1;33m         \u001b[0mindexer\u001b[0m \u001b[1;33m=\u001b[0m \u001b[0mself\u001b[0m\u001b[1;33m.\u001b[0m\u001b[0m_get_setitem_indexer\u001b[0m\u001b[1;33m(\u001b[0m\u001b[0mkey\u001b[0m\u001b[1;33m)\u001b[0m\u001b[1;33m\u001b[0m\u001b[1;33m\u001b[0m\u001b[0m\n\u001b[0m\u001b[0;32m    190\u001b[0m         \u001b[0mself\u001b[0m\u001b[1;33m.\u001b[0m\u001b[0m_setitem_with_indexer\u001b[0m\u001b[1;33m(\u001b[0m\u001b[0mindexer\u001b[0m\u001b[1;33m,\u001b[0m \u001b[0mvalue\u001b[0m\u001b[1;33m)\u001b[0m\u001b[1;33m\u001b[0m\u001b[1;33m\u001b[0m\u001b[0m\n\u001b[0;32m    191\u001b[0m \u001b[1;33m\u001b[0m\u001b[0m\n",
      "\u001b[1;32mC:\\ProgramData\\Anaconda3\\envs\\MachineLearning\\lib\\site-packages\\pandas\\core\\indexing.py\u001b[0m in \u001b[0;36m_get_setitem_indexer\u001b[1;34m(self, key)\u001b[0m\n\u001b[0;32m    173\u001b[0m \u001b[1;33m\u001b[0m\u001b[0m\n\u001b[0;32m    174\u001b[0m         \u001b[1;32mtry\u001b[0m\u001b[1;33m:\u001b[0m\u001b[1;33m\u001b[0m\u001b[1;33m\u001b[0m\u001b[0m\n\u001b[1;32m--> 175\u001b[1;33m             \u001b[1;32mreturn\u001b[0m \u001b[0mself\u001b[0m\u001b[1;33m.\u001b[0m\u001b[0m_convert_to_indexer\u001b[0m\u001b[1;33m(\u001b[0m\u001b[0mkey\u001b[0m\u001b[1;33m,\u001b[0m \u001b[0mis_setter\u001b[0m\u001b[1;33m=\u001b[0m\u001b[1;32mTrue\u001b[0m\u001b[1;33m)\u001b[0m\u001b[1;33m\u001b[0m\u001b[1;33m\u001b[0m\u001b[0m\n\u001b[0m\u001b[0;32m    176\u001b[0m         \u001b[1;32mexcept\u001b[0m \u001b[0mTypeError\u001b[0m \u001b[1;32mas\u001b[0m \u001b[0me\u001b[0m\u001b[1;33m:\u001b[0m\u001b[1;33m\u001b[0m\u001b[1;33m\u001b[0m\u001b[0m\n\u001b[0;32m    177\u001b[0m \u001b[1;33m\u001b[0m\u001b[0m\n",
      "\u001b[1;32mC:\\ProgramData\\Anaconda3\\envs\\MachineLearning\\lib\\site-packages\\pandas\\core\\indexing.py\u001b[0m in \u001b[0;36m_convert_to_indexer\u001b[1;34m(self, obj, axis, is_setter)\u001b[0m\n\u001b[0;32m   2245\u001b[0m \u001b[1;33m\u001b[0m\u001b[0m\n\u001b[0;32m   2246\u001b[0m         \u001b[1;32mtry\u001b[0m\u001b[1;33m:\u001b[0m\u001b[1;33m\u001b[0m\u001b[1;33m\u001b[0m\u001b[0m\n\u001b[1;32m-> 2247\u001b[1;33m             \u001b[0mself\u001b[0m\u001b[1;33m.\u001b[0m\u001b[0m_validate_key\u001b[0m\u001b[1;33m(\u001b[0m\u001b[0mobj\u001b[0m\u001b[1;33m,\u001b[0m \u001b[0maxis\u001b[0m\u001b[1;33m)\u001b[0m\u001b[1;33m\u001b[0m\u001b[1;33m\u001b[0m\u001b[0m\n\u001b[0m\u001b[0;32m   2248\u001b[0m             \u001b[1;32mreturn\u001b[0m \u001b[0mobj\u001b[0m\u001b[1;33m\u001b[0m\u001b[1;33m\u001b[0m\u001b[0m\n\u001b[0;32m   2249\u001b[0m         \u001b[1;32mexcept\u001b[0m \u001b[0mValueError\u001b[0m\u001b[1;33m:\u001b[0m\u001b[1;33m\u001b[0m\u001b[1;33m\u001b[0m\u001b[0m\n",
      "\u001b[1;32mC:\\ProgramData\\Anaconda3\\envs\\MachineLearning\\lib\\site-packages\\pandas\\core\\indexing.py\u001b[0m in \u001b[0;36m_validate_key\u001b[1;34m(self, key, axis)\u001b[0m\n\u001b[0;32m   2072\u001b[0m             \u001b[1;31m# a tuple should already have been caught by this point\u001b[0m\u001b[1;33m\u001b[0m\u001b[1;33m\u001b[0m\u001b[1;33m\u001b[0m\u001b[0m\n\u001b[0;32m   2073\u001b[0m             \u001b[1;31m# so don't treat a tuple as a valid indexer\u001b[0m\u001b[1;33m\u001b[0m\u001b[1;33m\u001b[0m\u001b[1;33m\u001b[0m\u001b[0m\n\u001b[1;32m-> 2074\u001b[1;33m             \u001b[1;32mraise\u001b[0m \u001b[0mIndexingError\u001b[0m\u001b[1;33m(\u001b[0m\u001b[1;34m'Too many indexers'\u001b[0m\u001b[1;33m)\u001b[0m\u001b[1;33m\u001b[0m\u001b[1;33m\u001b[0m\u001b[0m\n\u001b[0m\u001b[0;32m   2075\u001b[0m         \u001b[1;32melif\u001b[0m \u001b[0mis_list_like_indexer\u001b[0m\u001b[1;33m(\u001b[0m\u001b[0mkey\u001b[0m\u001b[1;33m)\u001b[0m\u001b[1;33m:\u001b[0m\u001b[1;33m\u001b[0m\u001b[1;33m\u001b[0m\u001b[0m\n\u001b[0;32m   2076\u001b[0m             \u001b[1;31m# check that the key does not exceed the maximum size of the index\u001b[0m\u001b[1;33m\u001b[0m\u001b[1;33m\u001b[0m\u001b[1;33m\u001b[0m\u001b[0m\n",
      "\u001b[1;31mIndexingError\u001b[0m: Too many indexers"
     ]
    }
   ],
   "source": [
    "result = dual_annealing(optimise, bounds, x0 = _dfm1['PipeIdx'].values, maxiter = 10000)\n",
    "#result = differential_evolution(optimise, bounds, workers = 4)"
   ]
  },
  {
   "cell_type": "code",
   "execution_count": null,
   "metadata": {},
   "outputs": [],
   "source": [
    "_dfdso = _dfds.copy()\n",
    "_dfdso['PipeIdx'] = result.x\n",
    "_dfdso[1:] = _dfdso[1:].sort_values(by = 'PipeIdx').values\n",
    "_dfdso['Lends'] = _dfdso['PipeLends'].cumsum()\n",
    "_dfdso['Yds'] = _dfdso['YdsDel'].cumsum() + _Y_start\n",
    "_dfdso.at[0, 'Lends'] = 0\n",
    "_dfdso.at[0, 'Yds'] = _Y_start"
   ]
  },
  {
   "cell_type": "code",
   "execution_count": null,
   "metadata": {},
   "outputs": [],
   "source": [
    "plt.figure(figsize=(10,5))\n",
    "plt.plot(_dfrw['Lenwd'], _dfrw['Ywd'])\n",
    "plt.plot(_dfds['Lends'], _dfds['Yds'])\n",
    "plt.plot(_dfdso['Lends'], _dfdso['Yds'])\n",
    "plt.show()"
   ]
  },
  {
   "cell_type": "code",
   "execution_count": null,
   "metadata": {},
   "outputs": [],
   "source": [
    "yds_new = _dfdso['Yds'].dropna().values\n",
    "yds_old = _dfrw['Yds'].dropna().values\n",
    "mse = np.sum(np.sqrt((yds_old - yds_new)**2))"
   ]
  },
  {
   "cell_type": "code",
   "execution_count": null,
   "metadata": {},
   "outputs": [],
   "source": [
    "mse"
   ]
  },
  {
   "cell_type": "code",
   "execution_count": null,
   "metadata": {},
   "outputs": [],
   "source": [
    "_dfdso"
   ]
  },
  {
   "cell_type": "code",
   "execution_count": null,
   "metadata": {},
   "outputs": [],
   "source": []
  }
 ],
 "metadata": {
  "kernelspec": {
   "display_name": "Python 3",
   "language": "python",
   "name": "python3"
  },
  "language_info": {
   "codemirror_mode": {
    "name": "ipython",
    "version": 3
   },
   "file_extension": ".py",
   "mimetype": "text/x-python",
   "name": "python",
   "nbconvert_exporter": "python",
   "pygments_lexer": "ipython3",
   "version": "3.6.8"
  }
 },
 "nbformat": 4,
 "nbformat_minor": 2
}
